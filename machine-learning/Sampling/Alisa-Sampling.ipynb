{
 "cells": [
  {
   "cell_type": "code",
   "execution_count": 1,
   "metadata": {},
   "outputs": [
    {
     "name": "stdout",
     "output_type": "stream",
     "text": [
      "[1, 0.4, 0.4, 0.7999999999999999]\n",
      "[0, 3, 3, 0]\n"
     ]
    }
   ],
   "source": [
    "def create_alisa_table(area_ratio):  # [1.2 0.4 0.4 2]\n",
    "    \"\"\"\n",
    "    return: accept -> 接受的概率\n",
    "    return: alias  -> 拒绝的时候，去哪个位置取样\n",
    "    \"\"\"\n",
    "\n",
    "    l = len(area_ratio)\n",
    "    accept, alias = [0] * l, [0] * l\n",
    "    small, large = [], []\n",
    "\n",
    "    for i, prob in enumerate(area_ratio):\n",
    "        if prob < 1.0:\n",
    "            small.append(i)\n",
    "        else:\n",
    "            large.append(i)\n",
    "\n",
    "    while small and large:\n",
    "        small_idx, large_idx = small.pop(), large.pop()\n",
    "        accept[small_idx] = area_ratio[small_idx]\n",
    "        alias[small_idx] = large_idx\n",
    "        area_ratio[large_idx] = area_ratio[large_idx] - (1 - area_ratio[small_idx])\n",
    "        if area_ratio[large_idx] < 1.0:\n",
    "            small.append(large_idx)\n",
    "        else:\n",
    "            large.append(large_idx)\n",
    "\n",
    "    while large:\n",
    "        large_idx = large.pop()\n",
    "        accept[large_idx] = 1\n",
    "    while small:\n",
    "        small_idx = small.pop()\n",
    "        accept[small_idx] = 1\n",
    "    return accept, alias\n",
    "\n",
    "\n",
    "accept, alias = create_alisa_table([1.2, 0.4, 0.4, 2])\n",
    "print(accept)\n",
    "print(alias)"
   ]
  },
  {
   "cell_type": "code",
   "execution_count": 2,
   "metadata": {},
   "outputs": [],
   "source": [
    "import numpy as np\n",
    "\n",
    "\n",
    "def alias_sample(accept, alias):\n",
    "    N = len(accept)\n",
    "    i = int(np.random.random() * N)\n",
    "    r = np.random.random()\n",
    "    if r < accept[i]:\n",
    "        return i\n",
    "    else:\n",
    "        return alias[i]\n",
    "\n",
    "\n",
    "def gen_prob_dist(N):\n",
    "    p = np.random.randint(0, 100, N)\n",
    "    return p / np.sum(p)\n",
    "\n",
    "\n",
    "def simulate(N=20, k=10000):\n",
    "    truth = gen_prob_dist(N)\n",
    "    area_ratio = truth * N\n",
    "    accept, alias = create_alisa_table(area_ratio)\n",
    "\n",
    "    ans = np.zeros(N)\n",
    "    for _ in range(k):\n",
    "        i = alias_sample(accept, alias)\n",
    "        ans[i] += 1\n",
    "\n",
    "    return (ans / np.sum(ans)), truth"
   ]
  },
  {
   "cell_type": "code",
   "execution_count": 3,
   "metadata": {},
   "outputs": [],
   "source": [
    "alias_result, truth = simulate()"
   ]
  },
  {
   "cell_type": "code",
   "execution_count": 4,
   "metadata": {},
   "outputs": [
    {
     "name": "stdout",
     "output_type": "stream",
     "text": [
      "[0.058  0.0406 0.057  0.0334 0.035  0.064  0.0327 0.0297 0.0715 0.0503\n",
      " 0.0674 0.0811 0.0733 0.0292 0.0769 0.0532 0.039  0.0477 0.0471 0.0129]\n",
      "[0.05968929 0.03843009 0.05887163 0.03352412 0.03352412 0.06459526\n",
      " 0.03515944 0.0318888  0.07031889 0.05233034 0.0678659  0.08094849\n",
      " 0.07113655 0.02861815 0.07767784 0.05151267 0.03924775 0.04824203\n",
      " 0.0425184  0.01390025]\n"
     ]
    }
   ],
   "source": [
    "print(alias_result)\n",
    "print(truth)"
   ]
  },
  {
   "cell_type": "code",
   "execution_count": 21,
   "metadata": {},
   "outputs": [
    {
     "data": {
      "text/plain": [
       "[Text(0.125, 0, '0'),\n",
       " Text(1.125, 0, '1'),\n",
       " Text(2.125, 0, '2'),\n",
       " Text(3.125, 0, '3'),\n",
       " Text(4.125, 0, '4'),\n",
       " Text(5.125, 0, '5'),\n",
       " Text(6.125, 0, '6'),\n",
       " Text(7.125, 0, '7'),\n",
       " Text(8.125, 0, '8'),\n",
       " Text(9.125, 0, '9'),\n",
       " Text(10.125, 0, '10'),\n",
       " Text(11.125, 0, '11'),\n",
       " Text(12.125, 0, '12'),\n",
       " Text(13.125, 0, '13'),\n",
       " Text(14.125, 0, '14'),\n",
       " Text(15.125, 0, '15'),\n",
       " Text(16.125, 0, '16'),\n",
       " Text(17.125, 0, '17'),\n",
       " Text(18.125, 0, '18'),\n",
       " Text(19.125, 0, '19')]"
      ]
     },
     "execution_count": 21,
     "metadata": {},
     "output_type": "execute_result"
    },
    {
     "data": {
      "image/png": "[encoded data removed]",
      "text/plain": [
       "<Figure size 1200x500 with 1 Axes>"
      ]
     },
     "metadata": {},
     "output_type": "display_data"
    }
   ],
   "source": [
    "import matplotlib.pyplot as plt\n",
    "\n",
    "fig, ax = plt.subplots(figsize=(12, 5))\n",
    "xticks = np.arange(len(alias_result))\n",
    "ax.bar(xticks, height=alias_result, width=0.25,label=\"alias\")\n",
    "ax.bar(xticks+0.25, height=truth, width=0.25, label=\"truth\")\n",
    "ax.legend()\n",
    "\n",
    "ax.set_xticks(xticks+0.25/2)\n",
    "ax.set_xticklabels(xticks)\n",
    "\n",
    "# plt.show()"
   ]
  }
 ],
 "metadata": {
  "kernelspec": {
   "display_name": "gnn",
   "language": "python",
   "name": "python3"
  },
  "language_info": {
   "codemirror_mode": {
    "name": "ipython",
    "version": 3
   },
   "file_extension": ".py",
   "mimetype": "text/x-python",
   "name": "python",
   "nbconvert_exporter": "python",
   "pygments_lexer": "ipython3",
   "version": "3.10.11"
  },
  "orig_nbformat": 4
 },
 "nbformat": 4,
 "nbformat_minor": 2
}
