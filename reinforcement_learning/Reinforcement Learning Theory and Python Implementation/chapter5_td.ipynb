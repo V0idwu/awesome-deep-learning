{
 "cells": [
  {
   "cell_type": "code",
   "execution_count": 2,
   "source": [
    "# 5-1 初始化环境并玩一步\r\n",
    "\r\n",
    "import gym\r\n",
    "import numpy as np\r\n",
    "import matplotlib.pyplot as plt\r\n",
    "\r\n",
    "env = gym.make('Taxi-v3')\r\n",
    "state = env.reset()\r\n",
    "taxirow, taxicol, passloc, destidx = env.unwrapped.decode(state)\r\n",
    "print(taxirow, taxicol, passloc, destidx)\r\n",
    "print('出租车位置 = {}'.format((taxirow, taxicol)))\r\n",
    "print('乘客位置 = {}'.format(env.unwrapped.locs[passloc]))\r\n",
    "print('目标位置 = {}'.format(env.unwrapped.locs[destidx]))\r\n",
    "env.render()\r\n",
    "env.step(1)"
   ],
   "outputs": [
    {
     "output_type": "stream",
     "name": "stdout",
     "text": [
      "2 3 0 1\n",
      "出租车位置 = (2, 3)\n",
      "乘客位置 = (0, 0)\n",
      "目标位置 = (0, 4)\n",
      "+---------+\n",
      "|\u001b[34;1mR\u001b[0m: | : :\u001b[35mG\u001b[0m|\n",
      "| : | : : |\n",
      "| : : :\u001b[43m \u001b[0m: |\n",
      "| | : | : |\n",
      "|Y| : |B: |\n",
      "+---------+\n",
      "\n"
     ]
    },
    {
     "output_type": "execute_result",
     "data": {
      "text/plain": [
       "(161, -1, False, {'prob': 1.0})"
      ]
     },
     "metadata": {},
     "execution_count": 2
    }
   ],
   "metadata": {}
  },
  {
   "cell_type": "code",
   "execution_count": 23,
   "source": [
    "# 5-2 SARSA算法智能体的实现\r\n",
    "\r\n",
    "class SARSAAgent:\r\n",
    "    def __init__(self, env, gamma=0.9, learning_rate=0.1, epsilon=0.01) -> None:\r\n",
    "        self.gamma = gamma\r\n",
    "        self.learning_rate = learning_rate\r\n",
    "        self.epsilon = epsilon\r\n",
    "        self.action_n = env.action_space.n\r\n",
    "        self.q = np.zeros((env.observation_space.n, env.action_space.n))\r\n",
    "\r\n",
    "    def decide(self, state):\r\n",
    "        if np.random.uniform() > self.epsilon:\r\n",
    "            action = self.q[state].argmax()\r\n",
    "        else:\r\n",
    "            action = np.random.randint(self.action_n)\r\n",
    "        return action\r\n",
    "\r\n",
    "    def learn(self, state, action, reward, next_state, done, next_action):\r\n",
    "        u = reward + self.gamma * self.q[next_state][next_action] * (1. - done)\r\n",
    "        td_error = u - self.q[state][action]\r\n",
    "        self.q[state, action] += self.learning_rate * td_error\r\n",
    "\r\n",
    "\r\n",
    "agent = SARSAAgent(env)\r\n"
   ],
   "outputs": [],
   "metadata": {}
  },
  {
   "cell_type": "code",
   "execution_count": 28,
   "source": [
    "# 5-3 SARSA智能体与环境交互一回合\r\n",
    "\r\n",
    "def play_sarsa(env, agent, train=False, render=False):\r\n",
    "    episode_reward = 0\r\n",
    "    observation = env.reset()\r\n",
    "    action = agent.decide(observation)\r\n",
    "    while True:\r\n",
    "        if render:\r\n",
    "            env.render()\r\n",
    "        next_observation, reward, done, _ = env.step(action)\r\n",
    "        episode_reward += reward\r\n",
    "        next_action = agent.decide(next_observation)\r\n",
    "\r\n",
    "        # 训练阶段，调用agent.learn更新self.q\r\n",
    "        if train:\r\n",
    "            agent.learn(observation, action, reward, next_observation, done, next_action)\r\n",
    "        \r\n",
    "        if done:\r\n",
    "            break\r\n",
    "\r\n",
    "        observation, action = next_observation, next_action\r\n",
    "    \r\n",
    "    return episode_reward\r\n",
    "\r\n"
   ],
   "outputs": [],
   "metadata": {}
  },
  {
   "cell_type": "code",
   "execution_count": 23,
   "source": [
    "# 5-4 训练SARSA算法\r\n",
    "\r\n",
    "episodes = 5000\r\n",
    "episode_rewards = []\r\n",
    "for episode in range(episodes):\r\n",
    "    episode_reward = play_sarsa(env, agent, train=True)\r\n",
    "    episode_rewards.append(episode_reward)\r\n",
    "plt.plot(episode_rewards)"
   ],
   "outputs": [
    {
     "output_type": "execute_result",
     "data": {
      "text/plain": [
       "[<matplotlib.lines.Line2D at 0x1979a4ff400>]"
      ]
     },
     "metadata": {},
     "execution_count": 23
    },
    {
     "output_type": "display_data",
     "data": {
      "text/plain": [
       "<Figure size 432x288 with 1 Axes>"
      ],
      "image/png": "[encoded data removed]"
     },
     "metadata": {
      "needs_background": "light"
     }
    }
   ],
   "metadata": {}
  },
  {
   "cell_type": "code",
   "execution_count": 25,
   "source": [
    "# 5-5 测试SARSA算法\r\n",
    "\r\n",
    "agent.epsilon = 0. # 取消探索\r\n",
    "episode_rewards = [play_sarsa(env, agent) for _ in range(100)]\r\n",
    "print('平均回合奖励 = {} / {} = {}'.format(sum(episode_rewards), len(episode_rewards), np.mean(episode_rewards)))\r\n",
    "\r\n",
    "import pandas as pd\r\n",
    "\r\n",
    "# 最优价值估计\r\n",
    "print(pd.DataFrame(agent.q))\r\n",
    "\r\n",
    "# 最优策略估计\r\n",
    "policy = np.eye(agent.action_n)[agent.q.argmax(axis=-1)]\r\n",
    "print(pd.DataFrame(policy))\r\n"
   ],
   "outputs": [
    {
     "output_type": "stream",
     "name": "stdout",
     "text": [
      "平均回合奖励 = 804 / 100 = 8.04\n"
     ]
    }
   ],
   "metadata": {}
  },
  {
   "cell_type": "code",
   "execution_count": 9,
   "source": [
    "# 5-6 期望SARSA算法智能体\r\n",
    "\r\n",
    "class ExpectedSARSAAgent:\r\n",
    "    def __init__(self, env, gamma=0.9, learning_rate=0.1, epsilon=0.01) -> None:\r\n",
    "        self.gamma = gamma\r\n",
    "        self.learning_rate = learning_rate\r\n",
    "        self.epsilon = epsilon\r\n",
    "        self.action_n = env.action_space.n\r\n",
    "        self.q = np.zeros((env.observation_space.n, env.action_space.n))\r\n",
    "\r\n",
    "    def decide(self, state):\r\n",
    "        if np.random.uniform() > self.epsilon:\r\n",
    "            action = self.q[state].argmax()\r\n",
    "        else:\r\n",
    "            action = np.random.randint(self.action_n)\r\n",
    "        return action\r\n",
    "\r\n",
    "    def learn(self, state, action, reward, next_state, done):\r\n",
    "        v = (self.q[next_state].mean() * self.epsilon + self.q[next_state].max() * (1. - self.epsilon))\r\n",
    "        u = reward + self.gamma * v * (1. - done)\r\n",
    "        td_error = u - self.q[state][action]\r\n",
    "        self.q[state, action] += self.learning_rate * td_error\r\n",
    "\r\n",
    "\r\n",
    "agent = ExpectedSARSAAgent(env)"
   ],
   "outputs": [],
   "metadata": {}
  },
  {
   "cell_type": "code",
   "execution_count": 7,
   "source": [
    "# 5-7 Q学习智能体与环境的交互（期望SARSA智能体也用该函数交互）\r\n",
    "\r\n",
    "def play_qlearning(env, agent, train=False, render=False):   \r\n",
    "    episode_reward = 0\r\n",
    "    observation = env.reset()\r\n",
    "    while True:\r\n",
    "        if render:\r\n",
    "            env.render()\r\n",
    "        action = agent.decide(observation)\r\n",
    "        next_observation, reward, done, _ = env.step(action)\r\n",
    "        episode_reward += reward\r\n",
    "        if train:\r\n",
    "            agent.learn(observation, action, reward, next_observation, done) \r\n",
    "        if done:\r\n",
    "            break\r\n",
    "        observation = next_observation\r\n",
    "    return episode_reward\r\n"
   ],
   "outputs": [],
   "metadata": {}
  },
  {
   "cell_type": "code",
   "execution_count": 10,
   "source": [
    "# 5-8 训练期望SARSA算法\r\n",
    "\r\n",
    "episodes = 5000\r\n",
    "episode_rewards = []\r\n",
    "for episode in range(episodes):\r\n",
    "    episode_reward = play_qlearning(env, agent, train=True)\r\n",
    "    episode_rewards.append(episode_reward)\r\n",
    "\r\n",
    "plt.plot(episode_rewards)"
   ],
   "outputs": [
    {
     "output_type": "execute_result",
     "data": {
      "text/plain": [
       "[<matplotlib.lines.Line2D at 0x1e5e3b2ac70>]"
      ]
     },
     "metadata": {},
     "execution_count": 10
    },
    {
     "output_type": "display_data",
     "data": {
      "text/plain": [
       "<Figure size 432x288 with 1 Axes>"
      ],
      "image/png": "[encoded data removed]"
     },
     "metadata": {
      "needs_background": "light"
     }
    }
   ],
   "metadata": {}
  },
  {
   "cell_type": "code",
   "execution_count": 11,
   "source": [
    "# 5-9 测试期望SARSA算法\r\n",
    "\r\n",
    "agent.epsilon = 0. # 取消探索\r\n",
    "episode_rewards = [play_qlearning(env, agent) for _ in range(100)]\r\n",
    "print('平均回合奖励 = {} / {} = {}'.format(sum(episode_rewards), len(episode_rewards), np.mean(episode_rewards)))"
   ],
   "outputs": [
    {
     "output_type": "stream",
     "name": "stdout",
     "text": [
      "平均回合奖励 = 383 / 100 = 3.83\n"
     ]
    }
   ],
   "metadata": {}
  },
  {
   "cell_type": "code",
   "execution_count": 12,
   "source": [
    "# 5-10 Q学习智能体\r\n",
    "\r\n",
    "class QLearningAgent:\r\n",
    "    def __init__(self, env, gamma=0.9, learning_rate=0.1, epsilon=0.01) -> None:\r\n",
    "        self.gamma = gamma\r\n",
    "        self.learning_rate = learning_rate\r\n",
    "        self.epsilon = epsilon\r\n",
    "        self.action_n = env.action_space.n\r\n",
    "        self.q = np.zeros((env.observation_space.n, env.action_space.n))\r\n",
    "\r\n",
    "    def decide(self, state):\r\n",
    "        if np.random.uniform() > self.epsilon:\r\n",
    "            action = self.q[state].argmax()\r\n",
    "        else:\r\n",
    "            action = np.random.randint(self.action_n)\r\n",
    "        return action\r\n",
    "\r\n",
    "    def learn(self, state, action, reward, next_state, done):\r\n",
    "        u = reward + self.gamma * self.q[next_state].max() * (1. - done)\r\n",
    "        td_error = u - self.q[state][action]\r\n",
    "        self.q[state, action] += self.learning_rate * td_error\r\n",
    "\r\n",
    "agent = QLearningAgent(env)"
   ],
   "outputs": [],
   "metadata": {}
  },
  {
   "cell_type": "code",
   "execution_count": 13,
   "source": [
    "# 训练QLearning\r\n",
    "\r\n",
    "episodes = 5000\r\n",
    "episode_rewards = []\r\n",
    "for episode in range(episodes):\r\n",
    "    episode_reward = play_qlearning(env, agent, train=True)\r\n",
    "    episode_rewards.append(episode_reward)\r\n",
    "\r\n",
    "plt.plot(episode_rewards)"
   ],
   "outputs": [
    {
     "output_type": "execute_result",
     "data": {
      "text/plain": [
       "[<matplotlib.lines.Line2D at 0x1e5e3ce24f0>]"
      ]
     },
     "metadata": {},
     "execution_count": 13
    },
    {
     "output_type": "display_data",
     "data": {
      "text/plain": [
       "<Figure size 432x288 with 1 Axes>"
      ],
      "image/png": "[encoded data removed]"
     },
     "metadata": {
      "needs_background": "light"
     }
    }
   ],
   "metadata": {}
  },
  {
   "cell_type": "code",
   "execution_count": 14,
   "source": [
    "# 测试QLearning\r\n",
    "\r\n",
    "agent.epsilon = 0. # 取消探索\r\n",
    "episode_rewards = [play_qlearning(env, agent) for _ in range(100)]\r\n",
    "print('平均回合奖励 = {} / {} = {}'.format(sum(episode_rewards), len(episode_rewards), np.mean(episode_rewards)))"
   ],
   "outputs": [
    {
     "output_type": "stream",
     "name": "stdout",
     "text": [
      "平均回合奖励 = 778 / 100 = 7.78\n"
     ]
    }
   ],
   "metadata": {}
  },
  {
   "cell_type": "code",
   "execution_count": 20,
   "source": [
    "# 5-10 Q学习智能体\r\n",
    "\r\n",
    "class DoubleQLearningAgent:\r\n",
    "    def __init__(self, env, gamma=0.9, learning_rate=0.1, epsilon=0.01) -> None:\r\n",
    "        self.gamma = gamma\r\n",
    "        self.learning_rate = learning_rate\r\n",
    "        self.epsilon = epsilon\r\n",
    "        self.action_n = env.action_space.n\r\n",
    "        self.q0 = np.zeros((env.observation_space.n, env.action_space.n))\r\n",
    "        self.q1 = np.zeros((env.observation_space.n, env.action_space.n))\r\n",
    "\r\n",
    "    def decide(self, state):\r\n",
    "        if np.random.uniform() > self.epsilon:\r\n",
    "            action = (self.q0 + self.q1)[state].argmax()\r\n",
    "        else:\r\n",
    "            action = np.random.randint(self.action_n)\r\n",
    "        return action\r\n",
    "\r\n",
    "    def learn(self, state, action, reward, next_state, done):\r\n",
    "        if np.random.randint(2):\r\n",
    "            self.q0, self.q1 = self.q1, self.q0\r\n",
    "        a = self.q0[next_state].argmax()\r\n",
    "        u = reward + self.gamma * self.q1[next_state, a] * (1. - done)\r\n",
    "        td_error = u - self.q0[state][action]\r\n",
    "        self.q0[state, action] += self.learning_rate * td_error\r\n",
    "\r\n",
    "agent = DoubleQLearningAgent(env)"
   ],
   "outputs": [],
   "metadata": {}
  },
  {
   "cell_type": "code",
   "execution_count": 21,
   "source": [
    "# 训练DoubleQLearning\r\n",
    "\r\n",
    "episodes = 5000\r\n",
    "episode_rewards = []\r\n",
    "for episode in range(episodes):\r\n",
    "    episode_reward = play_qlearning(env, agent, train=True)\r\n",
    "    episode_rewards.append(episode_reward)\r\n",
    "\r\n",
    "plt.plot(episode_rewards)\r\n",
    "\r\n",
    "\r\n",
    "# 测试DoubleQLearning\r\n",
    "\r\n",
    "agent.epsilon = 0. # 取消探索\r\n",
    "episode_rewards = [play_qlearning(env, agent) for _ in range(100)]\r\n",
    "print('平均回合奖励 = {} / {} = {}'.format(sum(episode_rewards), len(episode_rewards), np.mean(episode_rewards)))"
   ],
   "outputs": [
    {
     "output_type": "stream",
     "name": "stdout",
     "text": [
      "平均回合奖励 = -3834 / 100 = -38.34\n"
     ]
    },
    {
     "output_type": "display_data",
     "data": {
      "text/plain": [
       "<Figure size 432x288 with 1 Axes>"
      ],
      "image/png": "[encoded data removed]"
     },
     "metadata": {
      "needs_background": "light"
     }
    }
   ],
   "metadata": {}
  },
  {
   "cell_type": "code",
   "execution_count": 30,
   "source": [
    "# 5-12 SARSA(λ)算法智能体类\r\n",
    "\r\n",
    "class SARSALambdaAgent(SARSAAgent):\r\n",
    "    def __init__(self, env, lambd=0.5, beta=1., gamma=0.9, learning_rate=0.1, epsilon=0.1) -> None:\r\n",
    "        super().__init__(env, gamma=gamma, learning_rate=learning_rate, epsilon=epsilon)\r\n",
    "        self.lambd = lambd\r\n",
    "        self.beta = beta\r\n",
    "        self.e = np.zeros((env.observation_space.n, env.action_space.n))\r\n",
    "\r\n",
    "    def learn(self, state, action, reward, next_state, done, next_action):\r\n",
    "        # 更新资格迹\r\n",
    "        self.e *= (self.lambd * self.gamma)\r\n",
    "        self.e[state, action] = 1. + self.beta * self.e[state, action]\r\n",
    "\r\n",
    "        # 更新价值\r\n",
    "        u = reward + self.gamma * self.q[next_state, next_action] * (1. - done)\r\n",
    "        td_error = u - self.q[state, action]\r\n",
    "        self.q += self.learning_rate * self.e * td_error\r\n",
    "\r\n",
    "        # 为下一回合初始化资格迹\r\n",
    "        if done:\r\n",
    "            self.e *= 0.\r\n",
    "\r\n",
    "\r\n",
    "agent = SARSALambdaAgent(env)"
   ],
   "outputs": [],
   "metadata": {}
  },
  {
   "cell_type": "code",
   "execution_count": 32,
   "source": [
    "# 训练 测试 资格迹 \r\n",
    "\r\n",
    "episodes = 5000\r\n",
    "episode_rewards = []\r\n",
    "for episode in range(episodes):\r\n",
    "    episode_reward = play_sarsa(env, agent, train=True)\r\n",
    "    episode_rewards.append(episode_reward)\r\n",
    "\r\n",
    "plt.plot(episode_rewards)\r\n",
    "\r\n",
    "agent.epsilon = 0. # 取消探索\r\n",
    "episode_rewards = [play_sarsa(env, agent) for _ in range(100)]\r\n",
    "print('平均回合奖励 = {} / {} = {}'.format(sum(episode_rewards), len(episode_rewards), np.mean(episode_rewards)))"
   ],
   "outputs": [
    {
     "output_type": "stream",
     "name": "stdout",
     "text": [
      "平均回合奖励 = -461 / 100 = -4.61\n"
     ]
    },
    {
     "output_type": "display_data",
     "data": {
      "text/plain": [
       "<Figure size 432x288 with 1 Axes>"
      ],
      "image/png": "[encoded data removed]"
     },
     "metadata": {
      "needs_background": "light"
     }
    }
   ],
   "metadata": {}
  }
 ],
 "metadata": {
  "orig_nbformat": 4,
  "language_info": {
   "name": "python",
   "version": "3.8.8",
   "mimetype": "text/x-python",
   "codemirror_mode": {
    "name": "ipython",
    "version": 3
   },
   "pygments_lexer": "ipython3",
   "nbconvert_exporter": "python",
   "file_extension": ".py"
  },
  "kernelspec": {
   "name": "python3",
   "display_name": "Python 3.8.8 64-bit ('torch': conda)"
  },
  "interpreter": {
   "hash": "af43dd1a3aed37f0269457c8a9208500fedd5a39c3ade42feceda1b56cea2745"
  }
 },
 "nbformat": 4,
 "nbformat_minor": 2
}