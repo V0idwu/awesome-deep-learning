{
 "cells": [
  {
   "cell_type": "code",
   "execution_count": 16,
   "metadata": {},
   "outputs": [],
   "source": [
    "import re\n",
    "import collections\n",
    "\n",
    "\n",
    "def words(text):\n",
    "    return re.findall(\"[a-z]+\", text.lower())\n",
    "\n",
    "\n",
    "def train(features):\n",
    "    model = collections.defaultdict((lambda: 1))\n",
    "    for f in features:\n",
    "        model[f] += 1\n",
    "    return model\n",
    "\n",
    "\n",
    "NWORDS = train(words(open(\"train.tsv\").read()))\n",
    "\n",
    "alphabet = \"abcdefghijklmnopqrstuvwxyz\"\n",
    "\n",
    "\n",
    "def edits1(word):\n",
    "    n = len(word)\n",
    "\n",
    "    return set(\n",
    "        [word[0:i] + word[i + 1 :] for i in range(n)]\n",
    "        + [word[0:i] + word[i + 1] + word[i] + word[i + 2 :] for i in range(n - 1)]\n",
    "        + [word[0:i] + c + word[i + 1 :] for i in range(n) for c in alphabet]\n",
    "        + [word[0:i] + c + word[i:] for i in range(n) for c in alphabet]\n",
    "    )\n",
    "\n",
    "def known_edits2(word):\n",
    "    return set(e2 for e1 in edits1(word) for e2 in edits1(e1) if e2 in NWORDS)\n",
    "\n",
    "def known(words):\n",
    "    return set(w for w in words if w in NWORDS)\n",
    "\n",
    "def correct(word):\n",
    "    candidates = known([word]) or known(edits1(word)) or known_edits2(word) or [word]\n",
    "    return max(candidates, key=lambda w: NWORDS[w])"
   ]
  },
  {
   "cell_type": "code",
   "execution_count": 17,
   "metadata": {},
   "outputs": [
    {
     "name": "stdout",
     "output_type": "stream",
     "text": [
      "apple\n",
      "apple\n",
      "apple\n"
     ]
    }
   ],
   "source": [
    "print(correct('apple'))\n",
    "print(correct('dpple'))\n",
    "print(correct('dpplea'))"
   ]
  }
 ],
 "metadata": {
  "kernelspec": {
   "display_name": "dev-py310",
   "language": "python",
   "name": "python3"
  },
  "language_info": {
   "codemirror_mode": {
    "name": "ipython",
    "version": 3
   },
   "file_extension": ".py",
   "mimetype": "text/x-python",
   "name": "python",
   "nbconvert_exporter": "python",
   "pygments_lexer": "ipython3",
   "version": "3.10.9"
  },
  "orig_nbformat": 4
 },
 "nbformat": 4,
 "nbformat_minor": 2
}
