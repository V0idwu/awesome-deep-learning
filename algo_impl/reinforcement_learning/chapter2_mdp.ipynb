{
 "cells": [
  {
   "cell_type": "code",
   "execution_count": 3,
   "source": [
    "# 2-1\r\n",
    "# 求解示例Bellman期望方程\r\n",
    "\r\n",
    "import sympy\r\n",
    "from sympy import symbols\r\n",
    "\r\n",
    "sympy.init_printing()\r\n",
    "v_hungry, v_full = symbols(\"v_hungry v_full\")\r\n",
    "q_hungry_eat, q_hungry_none, q_full_eat, q_full_none = symbols(\"q_hungry_eat q_hungry_none q_full_eat q_full_none\")\r\n",
    "alpha, beta, x, y, gamma = symbols(\"alpha beta x y gamma\")\r\n",
    "system = sympy.Matrix(\r\n",
    "    (\r\n",
    "        (1, 0, x - 1, -x, 0, 0, 0),\r\n",
    "        (0, 1, 0, 0, -y, y - 1, 0),\r\n",
    "        (-gamma, 0, 1, 0, 0, 0, - 2),\r\n",
    "        ((alpha - 1) * gamma, -alpha * gamma, 0, 1, 0, 0, 4 * alpha - 3),\r\n",
    "        (-beta * gamma, (beta - 1) * gamma, 0, 0, 1, 0, -4 * beta + 2),\r\n",
    "        (0, -gamma, 0, 0, 0, 1, 1),\r\n",
    "    )\r\n",
    ")\r\n",
    "\r\n",
    "sympy.solve_linear_system(system, v_hungry, v_full, q_hungry_none, q_hungry_eat, q_full_none, q_full_eat)\r\n"
   ],
   "outputs": [
    {
     "output_type": "execute_result",
     "data": {
      "text/plain": [
       "⎧                 2                  2          2                2            \n",
       "⎪            - α⋅γ ⋅x⋅y - α⋅γ⋅x + β⋅γ ⋅x⋅y - β⋅γ ⋅y + 3⋅β⋅γ⋅y + γ ⋅y - γ⋅y + γ\n",
       "⎨q_full_eat: ─────────────────────────────────────────────────────────────────\n",
       "⎪                           2                2              2                 \n",
       "⎩                        α⋅γ ⋅x - α⋅γ⋅x + β⋅γ ⋅y - β⋅γ⋅y - γ  + 2⋅γ - 1       \n",
       "\n",
       "                        2          2                  2          2        2   \n",
       " - 1               - α⋅γ ⋅x⋅y + α⋅γ ⋅x - 2⋅α⋅γ⋅x + β⋅γ ⋅x⋅y - β⋅γ ⋅x - β⋅γ ⋅y \n",
       "────, q_full_none: ───────────────────────────────────────────────────────────\n",
       "                                                              2               \n",
       "                                                           α⋅γ ⋅x - α⋅γ⋅x + β⋅\n",
       "\n",
       "     2                                    2      2                            \n",
       "+ β⋅γ  + β⋅γ⋅x + 3⋅β⋅γ⋅y - 5⋅β⋅γ + 4⋅β + γ ⋅y - γ  - γ⋅y + 3⋅γ - 2            \n",
       "──────────────────────────────────────────────────────────────────, q_hungry_e\n",
       " 2              2                                                             \n",
       "γ ⋅y - β⋅γ⋅y - γ  + 2⋅γ - 1                                                   \n",
       "\n",
       "         2          2        2        2                                      2\n",
       "    - α⋅γ ⋅x⋅y + α⋅γ ⋅x + α⋅γ ⋅y - α⋅γ  - 2⋅α⋅γ⋅x - α⋅γ⋅y + 5⋅α⋅γ - 4⋅α + β⋅γ \n",
       "at: ──────────────────────────────────────────────────────────────────────────\n",
       "                                               2                2             \n",
       "                                            α⋅γ ⋅x - α⋅γ⋅x + β⋅γ ⋅y - β⋅γ⋅y - \n",
       "\n",
       "          2                2      2                                      2    \n",
       "⋅x⋅y - β⋅γ ⋅y + 3⋅β⋅γ⋅y - γ ⋅x + γ  + γ⋅x - 4⋅γ + 3                 - α⋅γ ⋅x⋅y\n",
       "───────────────────────────────────────────────────, q_hungry_none: ──────────\n",
       " 2                                                                            \n",
       "γ  + 2⋅γ - 1                                                                  \n",
       "\n",
       "      2                  2                  2                                 \n",
       " + α⋅γ ⋅x - 2⋅α⋅γ⋅x + β⋅γ ⋅x⋅y + 2⋅β⋅γ⋅y - γ ⋅x + γ⋅x - 2⋅γ + 2          -α⋅γ⋅\n",
       "───────────────────────────────────────────────────────────────, v_full: ─────\n",
       "       2                2              2                                      \n",
       "    α⋅γ ⋅x - α⋅γ⋅x + β⋅γ ⋅y - β⋅γ⋅y - γ  + 2⋅γ - 1                            \n",
       "\n",
       "                                                                              \n",
       "x⋅y - α⋅γ⋅x + β⋅γ⋅x⋅y - 2⋅β⋅γ⋅y + 4⋅β⋅y + γ⋅y + γ - y - 1            -α⋅γ⋅x⋅y \n",
       "─────────────────────────────────────────────────────────, v_hungry: ─────────\n",
       "      2                2              2                                       \n",
       "   α⋅γ ⋅x - α⋅γ⋅x + β⋅γ ⋅y - β⋅γ⋅y - γ  + 2⋅γ - 1                             \n",
       "\n",
       "                                                         ⎫\n",
       "+ 3⋅α⋅γ⋅x - 4⋅α⋅x + β⋅γ⋅x⋅y + 2⋅β⋅γ⋅y - γ⋅x - 2⋅γ + x + 2⎪\n",
       "─────────────────────────────────────────────────────────⎬\n",
       "    2                2              2                    ⎪\n",
       " α⋅γ ⋅x - α⋅γ⋅x + β⋅γ ⋅y - β⋅γ⋅y - γ  + 2⋅γ - 1          ⎭"
      ],
      "image/png": "[encoded data removed]",
      "text/latex": [
       "$\\displaystyle \\left\\{ q_{full eat} : \\frac{- \\alpha \\gamma^{2} x y - \\alpha \\gamma x + \\beta \\gamma^{2} x y - \\beta \\gamma^{2} y + 3 \\beta \\gamma y + \\gamma^{2} y - \\gamma y + \\gamma - 1}{\\alpha \\gamma^{2} x - \\alpha \\gamma x + \\beta \\gamma^{2} y - \\beta \\gamma y - \\gamma^{2} + 2 \\gamma - 1}, \\  q_{full none} : \\frac{- \\alpha \\gamma^{2} x y + \\alpha \\gamma^{2} x - 2 \\alpha \\gamma x + \\beta \\gamma^{2} x y - \\beta \\gamma^{2} x - \\beta \\gamma^{2} y + \\beta \\gamma^{2} + \\beta \\gamma x + 3 \\beta \\gamma y - 5 \\beta \\gamma + 4 \\beta + \\gamma^{2} y - \\gamma^{2} - \\gamma y + 3 \\gamma - 2}{\\alpha \\gamma^{2} x - \\alpha \\gamma x + \\beta \\gamma^{2} y - \\beta \\gamma y - \\gamma^{2} + 2 \\gamma - 1}, \\  q_{hungry eat} : \\frac{- \\alpha \\gamma^{2} x y + \\alpha \\gamma^{2} x + \\alpha \\gamma^{2} y - \\alpha \\gamma^{2} - 2 \\alpha \\gamma x - \\alpha \\gamma y + 5 \\alpha \\gamma - 4 \\alpha + \\beta \\gamma^{2} x y - \\beta \\gamma^{2} y + 3 \\beta \\gamma y - \\gamma^{2} x + \\gamma^{2} + \\gamma x - 4 \\gamma + 3}{\\alpha \\gamma^{2} x - \\alpha \\gamma x + \\beta \\gamma^{2} y - \\beta \\gamma y - \\gamma^{2} + 2 \\gamma - 1}, \\  q_{hungry none} : \\frac{- \\alpha \\gamma^{2} x y + \\alpha \\gamma^{2} x - 2 \\alpha \\gamma x + \\beta \\gamma^{2} x y + 2 \\beta \\gamma y - \\gamma^{2} x + \\gamma x - 2 \\gamma + 2}{\\alpha \\gamma^{2} x - \\alpha \\gamma x + \\beta \\gamma^{2} y - \\beta \\gamma y - \\gamma^{2} + 2 \\gamma - 1}, \\  v_{full} : \\frac{- \\alpha \\gamma x y - \\alpha \\gamma x + \\beta \\gamma x y - 2 \\beta \\gamma y + 4 \\beta y + \\gamma y + \\gamma - y - 1}{\\alpha \\gamma^{2} x - \\alpha \\gamma x + \\beta \\gamma^{2} y - \\beta \\gamma y - \\gamma^{2} + 2 \\gamma - 1}, \\  v_{hungry} : \\frac{- \\alpha \\gamma x y + 3 \\alpha \\gamma x - 4 \\alpha x + \\beta \\gamma x y + 2 \\beta \\gamma y - \\gamma x - 2 \\gamma + x + 2}{\\alpha \\gamma^{2} x - \\alpha \\gamma x + \\beta \\gamma^{2} y - \\beta \\gamma y - \\gamma^{2} + 2 \\gamma - 1}\\right\\}$"
      ]
     },
     "metadata": {},
     "execution_count": 3
    }
   ],
   "metadata": {}
  },
  {
   "cell_type": "code",
   "execution_count": 1,
   "source": [
    "# 2-2\r\n",
    "# 求解示例Bellman最优方程\r\n",
    "\r\n",
    "import sympy\r\n",
    "from sympy import symbols\r\n",
    "\r\n",
    "sympy.init_printing()\r\n",
    "v_hungry, v_full = symbols(\"v_hungry v_full\")\r\n",
    "q_hungry_eat, q_hungry_none, q_full_eat, q_full_none = symbols(\"q_hungry_eat q_hungry_none q_full_eat q_full_none\")\r\n",
    "alpha, beta, x, y, gamma = symbols(\"alpha beta x y gamma\")\r\n",
    "xy_tuples = ((0, 0), (1, 0), (0, 1), (1, 1))\r\n",
    "for x, y in xy_tuples:\r\n",
    "    system = sympy.Matrix(\r\n",
    "        (\r\n",
    "            (1, 0, x - 1, -x, 0, 0, 0),\r\n",
    "            (0, 1, 0, 0, -y, y - 1, 0),\r\n",
    "            (-gamma, 0, 1, 0, 0, 0, - 2),\r\n",
    "            ((alpha - 1) * gamma, -alpha * gamma, 0, 1, 0, 0, 4 * alpha - 3),\r\n",
    "            (-beta * gamma, (beta - 1) * gamma, 0, 0, 1, 0, -4 * beta + 2),\r\n",
    "            (0, -gamma, 0, 0, 0, 1, 1),\r\n",
    "        )\r\n",
    "    )\r\n",
    "\r\n",
    "    result = sympy.solve_linear_system(system, v_hungry, v_full, q_hungry_none, q_hungry_eat, q_full_none, q_full_eat)\r\n",
    "\r\n",
    "    msgx = 'v=(饿) = q(饿，{}吃)'.format('' if x else '不')\r\n",
    "    msgy = 'v=(饱) = q(饱，{}吃)'.format('不' if y else '')\r\n",
    "    print('==== {}, {} ==== x = {}, y = {} ===='.format(msgx, msgy, x, y))\r\n",
    "    display(result)"
   ],
   "outputs": [
    {
     "output_type": "stream",
     "name": "stdout",
     "text": [
      "==== v=(饿) = q(饿，不吃), v=(饱) = q(饱，吃) ==== x = 0, y = 0 ====\n"
     ]
    },
    {
     "output_type": "display_data",
     "data": {
      "text/plain": [
       "⎧             -1                 -β⋅γ + 4⋅β + γ - 2                α⋅γ - 4⋅α -\n",
       "⎨q_full_eat: ─────, q_full_none: ──────────────────, q_hungry_eat: ───────────\n",
       "⎩            γ - 1                     γ - 1                             γ - 1\n",
       "\n",
       " γ + 3                   2             -1                2  ⎫\n",
       "──────, q_hungry_none: ─────, v_full: ─────, v_hungry: ─────⎬\n",
       "                       γ - 1          γ - 1            γ - 1⎭"
      ],
      "image/png": "[encoded data removed]",
      "text/latex": [
       "$\\displaystyle \\left\\{ q_{full eat} : - \\frac{1}{\\gamma - 1}, \\  q_{full none} : \\frac{- \\beta \\gamma + 4 \\beta + \\gamma - 2}{\\gamma - 1}, \\  q_{hungry eat} : \\frac{\\alpha \\gamma - 4 \\alpha - \\gamma + 3}{\\gamma - 1}, \\  q_{hungry none} : \\frac{2}{\\gamma - 1}, \\  v_{full} : - \\frac{1}{\\gamma - 1}, \\  v_{hungry} : \\frac{2}{\\gamma - 1}\\right\\}$"
      ]
     },
     "metadata": {}
    },
    {
     "output_type": "stream",
     "name": "stdout",
     "text": [
      "==== v=(饿) = q(饿，吃), v=(饱) = q(饱，吃) ==== x = 1, y = 0 ====\n"
     ]
    },
    {
     "output_type": "display_data",
     "data": {
      "text/plain": [
       "⎧                                   2                          2              \n",
       "⎪             -1                 α⋅γ  - 2⋅α⋅γ - 4⋅β⋅γ + 4⋅β - γ  + 3⋅γ - 2    \n",
       "⎨q_full_eat: ─────, q_full_none: ─────────────────────────────────────────, q_\n",
       "⎪            γ - 1                          2          2                      \n",
       "⎩                                        α⋅γ  - α⋅γ - γ  + 2⋅γ - 1            \n",
       "\n",
       "                                                         2            2       \n",
       "              3⋅α⋅γ - 4⋅α - 3⋅γ + 3                   α⋅γ  - 2⋅α⋅γ - γ  - γ + \n",
       "hungry_eat: ─────────────────────────, q_hungry_none: ────────────────────────\n",
       "               2          2                              2          2         \n",
       "            α⋅γ  - α⋅γ - γ  + 2⋅γ - 1                 α⋅γ  - α⋅γ - γ  + 2⋅γ - \n",
       "\n",
       "                                                     ⎫\n",
       "2           -1                3⋅α⋅γ - 4⋅α - 3⋅γ + 3  ⎪\n",
       "─, v_full: ─────, v_hungry: ─────────────────────────⎬\n",
       "           γ - 1               2          2          ⎪\n",
       "1                           α⋅γ  - α⋅γ - γ  + 2⋅γ - 1⎭"
      ],
      "image/png": "[encoded data removed]",
      "text/latex": [
       "$\\displaystyle \\left\\{ q_{full eat} : - \\frac{1}{\\gamma - 1}, \\  q_{full none} : \\frac{\\alpha \\gamma^{2} - 2 \\alpha \\gamma - 4 \\beta \\gamma + 4 \\beta - \\gamma^{2} + 3 \\gamma - 2}{\\alpha \\gamma^{2} - \\alpha \\gamma - \\gamma^{2} + 2 \\gamma - 1}, \\  q_{hungry eat} : \\frac{3 \\alpha \\gamma - 4 \\alpha - 3 \\gamma + 3}{\\alpha \\gamma^{2} - \\alpha \\gamma - \\gamma^{2} + 2 \\gamma - 1}, \\  q_{hungry none} : \\frac{\\alpha \\gamma^{2} - 2 \\alpha \\gamma - \\gamma^{2} - \\gamma + 2}{\\alpha \\gamma^{2} - \\alpha \\gamma - \\gamma^{2} + 2 \\gamma - 1}, \\  v_{full} : - \\frac{1}{\\gamma - 1}, \\  v_{hungry} : \\frac{3 \\alpha \\gamma - 4 \\alpha - 3 \\gamma + 3}{\\alpha \\gamma^{2} - \\alpha \\gamma - \\gamma^{2} + 2 \\gamma - 1}\\right\\}$"
      ]
     },
     "metadata": {}
    },
    {
     "output_type": "stream",
     "name": "stdout",
     "text": [
      "==== v=(饿) = q(饿，不吃), v=(饱) = q(饱，不吃) ==== x = 0, y = 1 ====\n"
     ]
    },
    {
     "output_type": "display_data",
     "data": {
      "text/plain": [
       "⎧                  2            2                                             \n",
       "⎪             - β⋅γ  + 3⋅β⋅γ + γ  - 1                  -2⋅β⋅γ + 4⋅β + 2⋅γ - 2 \n",
       "⎨q_full_eat: ─────────────────────────, q_full_none: ─────────────────────────\n",
       "⎪               2          2                            2          2          \n",
       "⎩            β⋅γ  - β⋅γ - γ  + 2⋅γ - 1               β⋅γ  - β⋅γ - γ  + 2⋅γ - 1\n",
       "\n",
       "                                 2            2                               \n",
       "                4⋅α⋅γ - 4⋅α - β⋅γ  + 3⋅β⋅γ + γ  - 4⋅γ + 3                   2 \n",
       ", q_hungry_eat: ─────────────────────────────────────────, q_hungry_none: ────\n",
       "                           2          2                                   γ - \n",
       "                        β⋅γ  - β⋅γ - γ  + 2⋅γ - 1                             \n",
       "\n",
       "                                                     ⎫\n",
       "             -2⋅β⋅γ + 4⋅β + 2⋅γ - 2               2  ⎪\n",
       "─, v_full: ─────────────────────────, v_hungry: ─────⎬\n",
       "1             2          2                      γ - 1⎪\n",
       "           β⋅γ  - β⋅γ - γ  + 2⋅γ - 1                 ⎭"
      ],
      "image/png": "[encoded data removed]",
      "text/latex": [
       "$\\displaystyle \\left\\{ q_{full eat} : \\frac{- \\beta \\gamma^{2} + 3 \\beta \\gamma + \\gamma^{2} - 1}{\\beta \\gamma^{2} - \\beta \\gamma - \\gamma^{2} + 2 \\gamma - 1}, \\  q_{full none} : \\frac{- 2 \\beta \\gamma + 4 \\beta + 2 \\gamma - 2}{\\beta \\gamma^{2} - \\beta \\gamma - \\gamma^{2} + 2 \\gamma - 1}, \\  q_{hungry eat} : \\frac{4 \\alpha \\gamma - 4 \\alpha - \\beta \\gamma^{2} + 3 \\beta \\gamma + \\gamma^{2} - 4 \\gamma + 3}{\\beta \\gamma^{2} - \\beta \\gamma - \\gamma^{2} + 2 \\gamma - 1}, \\  q_{hungry none} : \\frac{2}{\\gamma - 1}, \\  v_{full} : \\frac{- 2 \\beta \\gamma + 4 \\beta + 2 \\gamma - 2}{\\beta \\gamma^{2} - \\beta \\gamma - \\gamma^{2} + 2 \\gamma - 1}, \\  v_{hungry} : \\frac{2}{\\gamma - 1}\\right\\}$"
      ]
     },
     "metadata": {}
    },
    {
     "output_type": "stream",
     "name": "stdout",
     "text": [
      "==== v=(饿) = q(饿，吃), v=(饱) = q(饱，不吃) ==== x = 1, y = 1 ====\n"
     ]
    },
    {
     "output_type": "display_data",
     "data": {
      "text/plain": [
       "⎧                     2                  2                                    \n",
       "⎪                - α⋅γ  - α⋅γ + 3⋅β⋅γ + γ  - 1                         -2⋅α⋅γ \n",
       "⎨q_full_eat: ──────────────────────────────────────, q_full_none: ────────────\n",
       "⎪               2            2          2                            2        \n",
       "⎩            α⋅γ  - α⋅γ + β⋅γ  - β⋅γ - γ  + 2⋅γ - 1               α⋅γ  - α⋅γ +\n",
       "\n",
       "                                                                              \n",
       "- β⋅γ + 4⋅β + 2⋅γ - 2                         2⋅α⋅γ - 4⋅α + 3⋅β⋅γ - 3⋅γ + 3   \n",
       "──────────────────────────, q_hungry_eat: ────────────────────────────────────\n",
       "    2          2                             2            2          2        \n",
       " β⋅γ  - β⋅γ - γ  + 2⋅γ - 1                α⋅γ  - α⋅γ + β⋅γ  - β⋅γ - γ  + 2⋅γ -\n",
       "\n",
       "                                 2            2                               \n",
       "                     -2⋅α⋅γ + β⋅γ  + 2⋅β⋅γ - γ  - γ + 2                 -2⋅α⋅γ\n",
       "──, q_hungry_none: ──────────────────────────────────────, v_full: ───────────\n",
       "                      2            2          2                       2       \n",
       " 1                 α⋅γ  - α⋅γ + β⋅γ  - β⋅γ - γ  + 2⋅γ - 1          α⋅γ  - α⋅γ \n",
       "\n",
       "                                                                             ⎫\n",
       " - β⋅γ + 4⋅β + 2⋅γ - 2                     2⋅α⋅γ - 4⋅α + 3⋅β⋅γ - 3⋅γ + 3     ⎪\n",
       "───────────────────────────, v_hungry: ──────────────────────────────────────⎬\n",
       "     2          2                         2            2          2          ⎪\n",
       "+ β⋅γ  - β⋅γ - γ  + 2⋅γ - 1            α⋅γ  - α⋅γ + β⋅γ  - β⋅γ - γ  + 2⋅γ - 1⎭"
      ],
      "image/png": "[encoded data removed]",
      "text/latex": [
       "$\\displaystyle \\left\\{ q_{full eat} : \\frac{- \\alpha \\gamma^{2} - \\alpha \\gamma + 3 \\beta \\gamma + \\gamma^{2} - 1}{\\alpha \\gamma^{2} - \\alpha \\gamma + \\beta \\gamma^{2} - \\beta \\gamma - \\gamma^{2} + 2 \\gamma - 1}, \\  q_{full none} : \\frac{- 2 \\alpha \\gamma - \\beta \\gamma + 4 \\beta + 2 \\gamma - 2}{\\alpha \\gamma^{2} - \\alpha \\gamma + \\beta \\gamma^{2} - \\beta \\gamma - \\gamma^{2} + 2 \\gamma - 1}, \\  q_{hungry eat} : \\frac{2 \\alpha \\gamma - 4 \\alpha + 3 \\beta \\gamma - 3 \\gamma + 3}{\\alpha \\gamma^{2} - \\alpha \\gamma + \\beta \\gamma^{2} - \\beta \\gamma - \\gamma^{2} + 2 \\gamma - 1}, \\  q_{hungry none} : \\frac{- 2 \\alpha \\gamma + \\beta \\gamma^{2} + 2 \\beta \\gamma - \\gamma^{2} - \\gamma + 2}{\\alpha \\gamma^{2} - \\alpha \\gamma + \\beta \\gamma^{2} - \\beta \\gamma - \\gamma^{2} + 2 \\gamma - 1}, \\  v_{full} : \\frac{- 2 \\alpha \\gamma - \\beta \\gamma + 4 \\beta + 2 \\gamma - 2}{\\alpha \\gamma^{2} - \\alpha \\gamma + \\beta \\gamma^{2} - \\beta \\gamma - \\gamma^{2} + 2 \\gamma - 1}, \\  v_{hungry} : \\frac{2 \\alpha \\gamma - 4 \\alpha + 3 \\beta \\gamma - 3 \\gamma + 3}{\\alpha \\gamma^{2} - \\alpha \\gamma + \\beta \\gamma^{2} - \\beta \\gamma - \\gamma^{2} + 2 \\gamma - 1}\\right\\}$"
      ]
     },
     "metadata": {}
    }
   ],
   "metadata": {}
  },
  {
   "cell_type": "code",
   "execution_count": 2,
   "source": [
    "# 导入'CliffWalking-v0'\r\n",
    "import gym\r\n",
    "env = gym.make('CliffWalking-v0')\r\n",
    "print('观测空间 = {}'.format(env.observation_space))\r\n",
    "print('动作空间 = {}'.format(env.action_space))\r\n",
    "print('状态数量 = {}, 动作数量 = {}'.format(env.nS, env.nA))\r\n",
    "print('地图大小 = {}'.format(env.shape))"
   ],
   "outputs": [
    {
     "output_type": "stream",
     "name": "stdout",
     "text": [
      "观测空间 = Discrete(48)\n",
      "动作空间 = Discrete(4)\n",
      "状态数量 = 48, 动作数量 = 4\n",
      "地图大小 = (4, 12)\n"
     ]
    }
   ],
   "metadata": {}
  },
  {
   "cell_type": "code",
   "execution_count": 3,
   "source": [
    "# 运行一个回合\r\n",
    "\r\n",
    "import numpy as np\r\n",
    "\r\n",
    "def play_once(env, policy):\r\n",
    "    total_reward = 0\r\n",
    "    state = env.reset()\r\n",
    "    while True:\r\n",
    "        loc = np.unravel_index(state, env.shape)\r\n",
    "        print('状态 = {}, 位置 = {}'.format(state, loc), end=' ')\r\n",
    "        action = np.random.choice(env.nA, p=policy[state])\r\n",
    "        state, reward, done, _ = env.step(action)\r\n",
    "        print('动作 = {}, 奖励 = {}'.format(action, reward))\r\n",
    "        total_reward += reward\r\n",
    "        if done:\r\n",
    "            break\r\n",
    "    return total_reward"
   ],
   "outputs": [],
   "metadata": {}
  },
  {
   "cell_type": "code",
   "execution_count": 4,
   "source": [
    "# 最优策略\r\n",
    "\r\n",
    "actions = np.ones(env.shape, dtype=int)\r\n",
    "actions[-1, :] = 0\r\n",
    "actions[:, -1] = 2\r\n",
    "optimal_policy = np.eye(4)[actions.reshape(-1)]"
   ],
   "outputs": [],
   "metadata": {}
  },
  {
   "cell_type": "code",
   "execution_count": 9,
   "source": [
    "# 一个回合\r\n",
    "\r\n",
    "total_reward = play_once(env, optimal_policy)\r\n",
    "print('总奖励 = {}'.format(total_reward))"
   ],
   "outputs": [
    {
     "output_type": "stream",
     "name": "stdout",
     "text": [
      "状态 = 36, 位置 = (3, 0) 动作 = 0, 奖励 = -1\n",
      "状态 = 24, 位置 = (2, 0) 动作 = 1, 奖励 = -1\n",
      "状态 = 25, 位置 = (2, 1) 动作 = 1, 奖励 = -1\n",
      "状态 = 26, 位置 = (2, 2) 动作 = 1, 奖励 = -1\n",
      "状态 = 27, 位置 = (2, 3) 动作 = 1, 奖励 = -1\n",
      "状态 = 28, 位置 = (2, 4) 动作 = 1, 奖励 = -1\n",
      "状态 = 29, 位置 = (2, 5) 动作 = 1, 奖励 = -1\n",
      "状态 = 30, 位置 = (2, 6) 动作 = 1, 奖励 = -1\n",
      "状态 = 31, 位置 = (2, 7) 动作 = 1, 奖励 = -1\n",
      "状态 = 32, 位置 = (2, 8) 动作 = 1, 奖励 = -1\n",
      "状态 = 33, 位置 = (2, 9) 动作 = 1, 奖励 = -1\n",
      "状态 = 34, 位置 = (2, 10) 动作 = 1, 奖励 = -1\n",
      "状态 = 35, 位置 = (2, 11) 动作 = 2, 奖励 = -1\n",
      "总奖励 = -13\n"
     ]
    }
   ],
   "metadata": {}
  },
  {
   "cell_type": "code",
   "execution_count": 11,
   "source": [
    "# 2-6 用Bellman方程求解状态价值和动作价值\r\n",
    "\r\n",
    "def evaluate_bellman(env, policy, gamma=1.):\r\n",
    "    a, b = np.eye(env.nS), np.zeros((env.nS))\r\n",
    "    for state in range(env.nS - 1):\r\n",
    "        for action in range(env.nA):\r\n",
    "            pi = policy[state][action]\r\n",
    "            for p, next_state, reward, done in env.P[state][action]:\r\n",
    "                a[state, next_state] -= [pi * gamma * p]\r\n",
    "                b[state] += (pi * reward * p)\r\n",
    "    v = np.linalg.solve(a, b)\r\n",
    "    q = np.zeros((env.nS, env.nA))\r\n",
    "    for state in range(env.nS - 1):\r\n",
    "        for action in range(env.nA):\r\n",
    "            for p, next_state, reward, done in env.P[state][action]:\r\n",
    "                q[state][action] += ((reward + gamma * v[next_state]) * p)\r\n",
    "    \r\n",
    "    return v, q"
   ],
   "outputs": [],
   "metadata": {}
  },
  {
   "cell_type": "code",
   "execution_count": 12,
   "source": [
    "# 2-7 评估随机策略\r\n",
    "\r\n",
    "policy = np.random.uniform(size=(env.nS, env.nA))\r\n",
    "policy = policy / np.sum(policy, axis=1)[:, np.newaxis]\r\n",
    "state_values, action_values = evaluate_bellman(env, policy)\r\n",
    "print('状态价值 = {}'.format(state_values))\r\n",
    "print('动作价值 = {}'.format(action_values))"
   ],
   "outputs": [
    {
     "output_type": "stream",
     "name": "stdout",
     "text": [
      "状态价值 = [-3134354.09104268 -3134126.96173355 -3133277.26248774 -3132493.11103687\n",
      " -3131288.62313683 -3122944.64390446 -3117515.67837201 -3074376.98598297\n",
      " -3039198.12095808 -2790250.12025305 -2533046.75701206 -2180896.17008608\n",
      " -3134441.23191292 -3134169.42263547 -3134012.02872268 -3132861.6839052\n",
      " -3130931.24993232 -3120372.11676639 -3107546.7901031  -3074053.41717956\n",
      " -3050374.29654501 -2974574.37072729 -2546968.33673238 -2180468.92549796\n",
      " -3134723.97567073 -3134707.65301948 -3134411.08418141 -3133785.68952711\n",
      " -3132937.23198471 -3131020.40683327 -3127420.83336839 -3097059.04867485\n",
      " -3092883.9142322  -3031894.30753952 -2825381.34561493 -1483672.76025053\n",
      " -3134994.20660826 -3135063.79646457 -3134741.76197133 -3134754.23042656\n",
      " -3134520.21991202 -3134755.98581698 -3132613.4423758  -3110294.00935083\n",
      " -3125865.64190957 -3100587.67967799 -2298719.52029336        0.        ]\n",
      "动作价值 = [[-3.13435509e+06 -3.13412796e+06 -3.13444223e+06 -3.13435509e+06]\n",
      " [-3.13412796e+06 -3.13327826e+06 -3.13417042e+06 -3.13435509e+06]\n",
      " [-3.13327826e+06 -3.13249411e+06 -3.13401303e+06 -3.13412796e+06]\n",
      " [-3.13249411e+06 -3.13128962e+06 -3.13286268e+06 -3.13327826e+06]\n",
      " [-3.13128962e+06 -3.12294564e+06 -3.13093225e+06 -3.13249411e+06]\n",
      " [-3.12294564e+06 -3.11751668e+06 -3.12037312e+06 -3.13128962e+06]\n",
      " [-3.11751668e+06 -3.07437799e+06 -3.10754779e+06 -3.12294564e+06]\n",
      " [-3.07437799e+06 -3.03919912e+06 -3.07405442e+06 -3.11751668e+06]\n",
      " [-3.03919912e+06 -2.79025112e+06 -3.05037530e+06 -3.07437799e+06]\n",
      " [-2.79025112e+06 -2.53304776e+06 -2.97457537e+06 -3.03919912e+06]\n",
      " [-2.53304776e+06 -2.18089717e+06 -2.54696934e+06 -2.79025112e+06]\n",
      " [-2.18089717e+06 -2.18089717e+06 -2.18046993e+06 -2.53304776e+06]\n",
      " [-3.13435509e+06 -3.13417042e+06 -3.13472498e+06 -3.13444223e+06]\n",
      " [-3.13412796e+06 -3.13401303e+06 -3.13470865e+06 -3.13444223e+06]\n",
      " [-3.13327826e+06 -3.13286268e+06 -3.13441208e+06 -3.13417042e+06]\n",
      " [-3.13249411e+06 -3.13093225e+06 -3.13378669e+06 -3.13401303e+06]\n",
      " [-3.13128962e+06 -3.12037312e+06 -3.13293823e+06 -3.13286268e+06]\n",
      " [-3.12294564e+06 -3.10754779e+06 -3.13102141e+06 -3.13093225e+06]\n",
      " [-3.11751668e+06 -3.07405442e+06 -3.12742183e+06 -3.12037312e+06]\n",
      " [-3.07437799e+06 -3.05037530e+06 -3.09706005e+06 -3.10754779e+06]\n",
      " [-3.03919912e+06 -2.97457537e+06 -3.09288491e+06 -3.07405442e+06]\n",
      " [-2.79025112e+06 -2.54696934e+06 -3.03189531e+06 -3.05037530e+06]\n",
      " [-2.53304776e+06 -2.18046993e+06 -2.82538235e+06 -2.97457537e+06]\n",
      " [-2.18089717e+06 -2.18046993e+06 -1.48367376e+06 -2.54696934e+06]\n",
      " [-3.13444223e+06 -3.13470865e+06 -3.13499521e+06 -3.13472498e+06]\n",
      " [-3.13417042e+06 -3.13441208e+06 -3.13509421e+06 -3.13472498e+06]\n",
      " [-3.13401303e+06 -3.13378669e+06 -3.13509421e+06 -3.13470865e+06]\n",
      " [-3.13286268e+06 -3.13293823e+06 -3.13509421e+06 -3.13441208e+06]\n",
      " [-3.13093225e+06 -3.13102141e+06 -3.13509421e+06 -3.13378669e+06]\n",
      " [-3.12037312e+06 -3.12742183e+06 -3.13509421e+06 -3.13293823e+06]\n",
      " [-3.10754779e+06 -3.09706005e+06 -3.13509421e+06 -3.13102141e+06]\n",
      " [-3.07405442e+06 -3.09288491e+06 -3.13509421e+06 -3.12742183e+06]\n",
      " [-3.05037530e+06 -3.03189531e+06 -3.13509421e+06 -3.09706005e+06]\n",
      " [-2.97457537e+06 -2.82538235e+06 -3.13509421e+06 -3.09288491e+06]\n",
      " [-2.54696934e+06 -1.48367376e+06 -3.13509421e+06 -3.03189531e+06]\n",
      " [-2.18046993e+06 -1.48367376e+06 -1.00000000e+00 -2.82538235e+06]\n",
      " [-3.13472498e+06 -3.13509421e+06 -3.13499521e+06 -3.13499521e+06]\n",
      " [-3.13470865e+06 -3.13509421e+06 -3.13509421e+06 -3.13499521e+06]\n",
      " [-3.13441208e+06 -3.13509421e+06 -3.13509421e+06 -3.13509421e+06]\n",
      " [-3.13378669e+06 -3.13509421e+06 -3.13509421e+06 -3.13509421e+06]\n",
      " [-3.13293823e+06 -3.13509421e+06 -3.13509421e+06 -3.13509421e+06]\n",
      " [-3.13102141e+06 -3.13509421e+06 -3.13509421e+06 -3.13509421e+06]\n",
      " [-3.12742183e+06 -3.13509421e+06 -3.13509421e+06 -3.13509421e+06]\n",
      " [-3.09706005e+06 -3.13509421e+06 -3.13509421e+06 -3.13509421e+06]\n",
      " [-3.09288491e+06 -3.13509421e+06 -3.13509421e+06 -3.13509421e+06]\n",
      " [-3.03189531e+06 -3.13509421e+06 -3.13509421e+06 -3.13509421e+06]\n",
      " [-2.82538235e+06 -1.00000000e+00 -3.13509421e+06 -3.13509421e+06]\n",
      " [ 0.00000000e+00  0.00000000e+00  0.00000000e+00  0.00000000e+00]]\n"
     ]
    }
   ],
   "metadata": {}
  },
  {
   "cell_type": "code",
   "execution_count": 13,
   "source": [
    "# 2-8 评估最优策略\r\n",
    "\r\n",
    "optimal_state_values, optimal_action_values = evaluate_bellman(env, optimal_policy)\r\n",
    "print('最优状态价值 = {}'.format(optimal_state_values))\r\n",
    "print('最优动作价值 = {}'.format(optimal_action_values))"
   ],
   "outputs": [
    {
     "output_type": "stream",
     "name": "stdout",
     "text": [
      "最优状态价值 = [-14. -13. -12. -11. -10.  -9.  -8.  -7.  -6.  -5.  -4.  -3. -13. -12.\n",
      " -11. -10.  -9.  -8.  -7.  -6.  -5.  -4.  -3.  -2. -12. -11. -10.  -9.\n",
      "  -8.  -7.  -6.  -5.  -4.  -3.  -2.  -1. -13. -12. -11. -10.  -9.  -8.\n",
      "  -7.  -6.  -5.  -4.  -3.   0.]\n",
      "最优动作价值 = [[ -15.  -14.  -14.  -15.]\n",
      " [ -14.  -13.  -13.  -15.]\n",
      " [ -13.  -12.  -12.  -14.]\n",
      " [ -12.  -11.  -11.  -13.]\n",
      " [ -11.  -10.  -10.  -12.]\n",
      " [ -10.   -9.   -9.  -11.]\n",
      " [  -9.   -8.   -8.  -10.]\n",
      " [  -8.   -7.   -7.   -9.]\n",
      " [  -7.   -6.   -6.   -8.]\n",
      " [  -6.   -5.   -5.   -7.]\n",
      " [  -5.   -4.   -4.   -6.]\n",
      " [  -4.   -4.   -3.   -5.]\n",
      " [ -15.  -13.  -13.  -14.]\n",
      " [ -14.  -12.  -12.  -14.]\n",
      " [ -13.  -11.  -11.  -13.]\n",
      " [ -12.  -10.  -10.  -12.]\n",
      " [ -11.   -9.   -9.  -11.]\n",
      " [ -10.   -8.   -8.  -10.]\n",
      " [  -9.   -7.   -7.   -9.]\n",
      " [  -8.   -6.   -6.   -8.]\n",
      " [  -7.   -5.   -5.   -7.]\n",
      " [  -6.   -4.   -4.   -6.]\n",
      " [  -5.   -3.   -3.   -5.]\n",
      " [  -4.   -3.   -2.   -4.]\n",
      " [ -14.  -12.  -14.  -13.]\n",
      " [ -13.  -11. -113.  -13.]\n",
      " [ -12.  -10. -113.  -12.]\n",
      " [ -11.   -9. -113.  -11.]\n",
      " [ -10.   -8. -113.  -10.]\n",
      " [  -9.   -7. -113.   -9.]\n",
      " [  -8.   -6. -113.   -8.]\n",
      " [  -7.   -5. -113.   -7.]\n",
      " [  -6.   -4. -113.   -6.]\n",
      " [  -5.   -3. -113.   -5.]\n",
      " [  -4.   -2. -113.   -4.]\n",
      " [  -3.   -2.   -1.   -3.]\n",
      " [ -13. -113.  -14.  -14.]\n",
      " [ -12. -113. -113.  -14.]\n",
      " [ -11. -113. -113. -113.]\n",
      " [ -10. -113. -113. -113.]\n",
      " [  -9. -113. -113. -113.]\n",
      " [  -8. -113. -113. -113.]\n",
      " [  -7. -113. -113. -113.]\n",
      " [  -6. -113. -113. -113.]\n",
      " [  -5. -113. -113. -113.]\n",
      " [  -4. -113. -113. -113.]\n",
      " [  -3.   -1. -113. -113.]\n",
      " [   0.    0.    0.    0.]]\n"
     ]
    }
   ],
   "metadata": {}
  },
  {
   "cell_type": "code",
   "execution_count": 15,
   "source": [
    "# 2-9 用线性规划求解Bellman最优方程\r\n",
    "\r\n",
    "import scipy\r\n",
    "\r\n",
    "def optimal_bellman(env, gamma=1.):\r\n",
    "    p = np.zeros((env.nS, env.nA, env.nS))\r\n",
    "    r = np.zeros((env.nS, env.nA))\r\n",
    "    for state in range(env.nS - 1):\r\n",
    "        for action in range(env.nA):\r\n",
    "            for prob, next_state, reward, done in env.P[state][action]:\r\n",
    "                p[state, action, next_state] += prob\r\n",
    "                r[state, action] += (reward * prob)\r\n",
    "    c = np.ones(env.nS)\r\n",
    "    a_ub = gamma * p.reshape(-1, env.nS) - np.repeat(np.eye(env.nS), env.nA, axis=0)\r\n",
    "    b_ub = -r.reshape(-1)\r\n",
    "    a_eq = np.zeros((0, env.nS))\r\n",
    "    b_eq = np.zeros(0)\r\n",
    "    bounds = [(None, None), ] * env.nS\r\n",
    "    res = scipy.optimize.linprog(c, a_ub, b_ub, bounds=bounds, method='interior-point')\r\n",
    "    v = res.x\r\n",
    "    q = r + gamma * np.dot(p, v)\r\n",
    "    return v, q\r\n",
    "\r\n",
    "optimal_state_values, optimal_action_values = optimal_bellman(env)\r\n",
    "print('最优状态价值 = {}'.format(optimal_state_values))\r\n",
    "print('最优动作价值 = {}'.format(optimal_action_values))"
   ],
   "outputs": [
    {
     "output_type": "stream",
     "name": "stdout",
     "text": [
      "最优状态价值 = [-1.40000000e+01 -1.30000000e+01 -1.20000000e+01 -1.10000000e+01\n",
      " -1.00000000e+01 -9.00000000e+00 -8.00000000e+00 -7.00000000e+00\n",
      " -6.00000000e+00 -5.00000000e+00 -4.00000000e+00 -3.00000000e+00\n",
      " -1.30000000e+01 -1.20000000e+01 -1.10000000e+01 -1.00000000e+01\n",
      " -9.00000000e+00 -8.00000000e+00 -7.00000000e+00 -6.00000000e+00\n",
      " -5.00000000e+00 -4.00000000e+00 -3.00000000e+00 -2.00000000e+00\n",
      " -1.20000000e+01 -1.10000000e+01 -1.00000000e+01 -9.00000000e+00\n",
      " -8.00000000e+00 -7.00000000e+00 -6.00000000e+00 -5.00000000e+00\n",
      " -4.00000000e+00 -3.00000000e+00 -2.00000000e+00 -1.00000000e+00\n",
      " -1.30000000e+01 -1.20000000e+01 -1.10000000e+01 -1.00000000e+01\n",
      " -9.00000000e+00 -8.00000000e+00 -7.00000000e+00 -6.00000000e+00\n",
      " -5.00000000e+00 -4.00000000e+00 -9.99999999e-01  1.82458938e-11]\n",
      "最优动作价值 = [[ -14.99999999  -13.99999999  -13.99999999  -14.99999999]\n",
      " [ -13.99999999  -13.          -13.          -14.99999999]\n",
      " [ -13.          -12.          -12.          -13.99999999]\n",
      " [ -12.          -11.          -11.          -13.        ]\n",
      " [ -11.          -10.          -10.          -12.        ]\n",
      " [ -10.           -9.           -9.          -11.        ]\n",
      " [  -9.           -8.           -8.          -10.        ]\n",
      " [  -8.           -7.           -7.           -9.        ]\n",
      " [  -7.           -6.           -6.           -8.        ]\n",
      " [  -6.           -5.           -5.           -7.        ]\n",
      " [  -5.           -4.           -4.           -6.        ]\n",
      " [  -4.           -4.           -3.           -5.        ]\n",
      " [ -14.99999999  -13.          -13.          -13.99999999]\n",
      " [ -13.99999999  -12.          -12.          -13.99999999]\n",
      " [ -13.          -11.          -11.          -13.        ]\n",
      " [ -12.          -10.          -10.          -12.        ]\n",
      " [ -11.           -9.           -9.          -11.        ]\n",
      " [ -10.           -8.           -8.          -10.        ]\n",
      " [  -9.           -7.           -7.           -9.        ]\n",
      " [  -8.           -6.           -6.           -8.        ]\n",
      " [  -7.           -5.           -5.           -7.        ]\n",
      " [  -6.           -4.           -4.           -6.        ]\n",
      " [  -5.           -3.           -3.           -5.        ]\n",
      " [  -4.           -3.           -2.           -4.        ]\n",
      " [ -13.99999999  -12.          -14.          -13.        ]\n",
      " [ -13.          -11.         -113.          -13.        ]\n",
      " [ -12.          -10.         -113.          -12.        ]\n",
      " [ -11.           -9.         -113.          -11.        ]\n",
      " [ -10.           -8.         -113.          -10.        ]\n",
      " [  -9.           -7.         -113.           -9.        ]\n",
      " [  -8.           -6.         -113.           -8.        ]\n",
      " [  -7.           -5.         -113.           -7.        ]\n",
      " [  -6.           -4.         -113.           -6.        ]\n",
      " [  -5.           -3.         -113.           -5.        ]\n",
      " [  -4.           -2.         -113.           -4.        ]\n",
      " [  -3.           -2.           -1.           -3.        ]\n",
      " [ -13.         -113.          -14.          -14.        ]\n",
      " [ -12.         -113.         -113.          -14.        ]\n",
      " [ -11.         -113.         -113.         -113.        ]\n",
      " [ -10.         -113.         -113.         -113.        ]\n",
      " [  -9.         -113.         -113.         -113.        ]\n",
      " [  -8.         -113.         -113.         -113.        ]\n",
      " [  -7.         -113.         -113.         -113.        ]\n",
      " [  -6.         -113.         -113.         -113.        ]\n",
      " [  -5.         -113.         -113.         -113.        ]\n",
      " [  -4.         -113.         -113.         -113.        ]\n",
      " [  -3.           -1.         -113.         -113.        ]\n",
      " [   0.            0.            0.            0.        ]]\n"
     ]
    }
   ],
   "metadata": {}
  },
  {
   "cell_type": "code",
   "execution_count": 18,
   "source": [
    "# 2-10 用最优动作价值确定最优确定策略\r\n",
    "\r\n",
    "optimal_actions = optimal_action_values.argmax(axis=1)\r\n",
    "print('最优策略 = {}'.format(optimal_actions))"
   ],
   "outputs": [
    {
     "output_type": "stream",
     "name": "stdout",
     "text": [
      "最优策略 = [2 1 1 1 1 1 1 1 1 1 1 2 1 1 1 1 1 1 1 1 1 1 1 2 1 1 1 1 1 1 1 1 1 1 1 2 0\n",
      " 0 0 0 0 0 0 0 0 0 1 0]\n"
     ]
    }
   ],
   "metadata": {}
  }
 ],
 "metadata": {
  "interpreter": {
   "hash": "45c8c782616ee934877eff75ffd22761a2117480b2f5d482b7e24cef62251e40"
  },
  "kernelspec": {
   "display_name": "Python 3.8.5 64-bit ('torch': conda)",
   "name": "python3"
  },
  "language_info": {
   "name": "python",
   "version": ""
  },
  "orig_nbformat": 4
 },
 "nbformat": 4,
 "nbformat_minor": 2
}