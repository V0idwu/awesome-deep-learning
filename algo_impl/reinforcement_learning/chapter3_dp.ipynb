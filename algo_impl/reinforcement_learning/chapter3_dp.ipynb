{
 "cells": [
  {
   "cell_type": "code",
   "execution_count": 1,
   "source": [
    "import gym\r\n",
    "env = gym.make('FrozenLake-v0')\r\n",
    "env = env.unwrapped"
   ],
   "outputs": [],
   "metadata": {}
  },
  {
   "cell_type": "code",
   "execution_count": 2,
   "source": [
    "print(env.observation_space)\r\n",
    "print(env.action_space)"
   ],
   "outputs": [
    {
     "output_type": "stream",
     "name": "stdout",
     "text": [
      "Discrete(16)\n",
      "Discrete(4)\n"
     ]
    }
   ],
   "metadata": {}
  },
  {
   "cell_type": "code",
   "execution_count": 3,
   "source": [
    "env.unwrapped.P[14][2]"
   ],
   "outputs": [
    {
     "output_type": "execute_result",
     "data": {
      "text/plain": [
       "[(0.3333333333333333, 14, 0.0, False),\n",
       " (0.3333333333333333, 15, 1.0, True),\n",
       " (0.3333333333333333, 10, 0.0, False)]"
      ]
     },
     "metadata": {},
     "execution_count": 3
    }
   ],
   "metadata": {}
  },
  {
   "cell_type": "code",
   "execution_count": 4,
   "source": [
    "# 3-1 用策略执行一个回合\r\n",
    "import numpy as np\r\n",
    "\r\n",
    "def play_policy(env, policy, render=False):\r\n",
    "    total_reward = 0\r\n",
    "    observation = env.reset()\r\n",
    "    while True:\r\n",
    "        if render:\r\n",
    "            env.render()\r\n",
    "        action = np.random.choice(env.action_space.n, p=policy[observation])\r\n",
    "        observation, reward, done, _ = env.step(action)\r\n",
    "        total_reward += reward\r\n",
    "        if done:\r\n",
    "            break\r\n",
    "    return total_reward\r\n",
    "\r\n"
   ],
   "outputs": [],
   "metadata": {}
  },
  {
   "cell_type": "code",
   "execution_count": 5,
   "source": [
    "# 3-2 求随机策略的期望奖励\r\n",
    "random_policy = np.ones((env.unwrapped.nS, env.unwrapped.nA)) / env.unwrapped.nA\r\n",
    "episode_rewards = [play_policy(env, random_policy) for _ in range(100)]\r\n",
    "print('随机策略 平均奖励: {}'.format(np.mean(episode_rewards)))\r\n"
   ],
   "outputs": [
    {
     "output_type": "stream",
     "name": "stdout",
     "text": [
      "随机策略 平均奖励: 0.03\n"
     ]
    }
   ],
   "metadata": {}
  },
  {
   "cell_type": "code",
   "execution_count": 6,
   "source": [
    "# 3-3 策略评估的实现\r\n",
    "\r\n",
    "def v2q(env, v, s=None, gamma=1.): # 根据状态价值函数计算动作价值函数\r\n",
    "    if s is not None: # 针对单个状态求解\r\n",
    "        q = np.zeros(env.unwrapped.nA)\r\n",
    "        for a in range(env.unwrapped.nA):\r\n",
    "            for prob, next_state, reward, done in env.unwrapped.P[s][a]:\r\n",
    "                q[a] += prob * \\\r\n",
    "                        (reward + gamma * v[next_state] * (1. - done))\r\n",
    "    else: # 针对所有状态求解\r\n",
    "        q = np.zeros((env.unwrapped.nS, env.unwrapped.nA))\r\n",
    "        for s in range(env.unwrapped.nS):\r\n",
    "            q[s] = v2q(env, v, s, gamma)\r\n",
    "    return q\r\n",
    "\r\n",
    "def evaluate_policy(env, policy, gamma=1., tolerant=1e-6):\r\n",
    "    v = np.zeros(env.unwrapped.nS) # 初始化状态价值函数\r\n",
    "    while True: # 循环\r\n",
    "        delta = 0\r\n",
    "        for s in range(env.unwrapped.nS):\r\n",
    "            vs = sum(policy[s] * v2q(env, v, s, gamma)) # 更新状态价值函数\r\n",
    "            delta = max(delta, abs(v[s]-vs)) # 更新最大误差\r\n",
    "            v[s] = vs # 更新状态价值函数\r\n",
    "        if delta < tolerant: # 查看是否满足迭代条件\r\n",
    "            break\r\n",
    "    return v\r\n"
   ],
   "outputs": [],
   "metadata": {}
  },
  {
   "cell_type": "code",
   "execution_count": 7,
   "source": [
    "# 3-4 对随机策略进行策略评估\r\n",
    "\r\n",
    "print('状态价值函数: ')\r\n",
    "v_random = evaluate_policy(env, random_policy)\r\n",
    "print(v_random.reshape(4, 4))\r\n",
    "\r\n",
    "print('动作价值函数: ')\r\n",
    "q_random = v2q(env, v_random)\r\n",
    "print(q_random)"
   ],
   "outputs": [
    {
     "output_type": "stream",
     "name": "stdout",
     "text": [
      "状态价值函数: \n",
      "[[0.0139372  0.01162942 0.02095187 0.01047569]\n",
      " [0.01624741 0.         0.04075119 0.        ]\n",
      " [0.03480561 0.08816967 0.14205297 0.        ]\n",
      " [0.         0.17582021 0.43929104 0.        ]]\n",
      "动作价值函数: \n",
      "[[0.01470727 0.01393801 0.01393801 0.01316794]\n",
      " [0.00852221 0.01162969 0.01086043 0.01550616]\n",
      " [0.02444416 0.0209521  0.02405958 0.01435233]\n",
      " [0.01047585 0.01047585 0.00698379 0.01396775]\n",
      " [0.02166341 0.01701767 0.0162476  0.01006154]\n",
      " [0.         0.         0.         0.        ]\n",
      " [0.05433495 0.04735099 0.05433495 0.00698396]\n",
      " [0.         0.         0.         0.        ]\n",
      " [0.01701767 0.04099176 0.03480569 0.04640756]\n",
      " [0.0702086  0.11755959 0.10595772 0.05895286]\n",
      " [0.18940397 0.17582024 0.16001408 0.04297362]\n",
      " [0.         0.         0.         0.        ]\n",
      " [0.         0.         0.         0.        ]\n",
      " [0.08799662 0.20503708 0.23442697 0.17582024]\n",
      " [0.25238807 0.53837042 0.52711467 0.43929106]\n",
      " [0.         0.         0.         0.        ]]\n"
     ]
    }
   ],
   "metadata": {}
  },
  {
   "cell_type": "code",
   "execution_count": 8,
   "source": [
    "# 3-5 策略改进的实现\r\n",
    "\r\n",
    "def improve_policy(env, v, policy, gamma=1.):\r\n",
    "    optimal = True\r\n",
    "    for s in range(env.unwrapped.nS):\r\n",
    "        q = v2q(env, v, s, gamma)\r\n",
    "        a = np.argmax(q)\r\n",
    "        if policy[s][a] != 1.:\r\n",
    "            optimal = False\r\n",
    "            policy[s] = 0\r\n",
    "            policy[s][a] = 1.\r\n",
    "\r\n",
    "        return optimal"
   ],
   "outputs": [],
   "metadata": {}
  },
  {
   "cell_type": "code",
   "execution_count": 10,
   "source": [
    "random_policy"
   ],
   "outputs": [
    {
     "output_type": "execute_result",
     "data": {
      "text/plain": [
       "array([[0.25, 0.25, 0.25, 0.25],\n",
       "       [0.25, 0.25, 0.25, 0.25],\n",
       "       [0.25, 0.25, 0.25, 0.25],\n",
       "       [0.25, 0.25, 0.25, 0.25],\n",
       "       [0.25, 0.25, 0.25, 0.25],\n",
       "       [0.25, 0.25, 0.25, 0.25],\n",
       "       [0.25, 0.25, 0.25, 0.25],\n",
       "       [0.25, 0.25, 0.25, 0.25],\n",
       "       [0.25, 0.25, 0.25, 0.25],\n",
       "       [0.25, 0.25, 0.25, 0.25],\n",
       "       [0.25, 0.25, 0.25, 0.25],\n",
       "       [0.25, 0.25, 0.25, 0.25],\n",
       "       [0.25, 0.25, 0.25, 0.25],\n",
       "       [0.25, 0.25, 0.25, 0.25],\n",
       "       [0.25, 0.25, 0.25, 0.25],\n",
       "       [0.25, 0.25, 0.25, 0.25]])"
      ]
     },
     "metadata": {},
     "execution_count": 10
    }
   ],
   "metadata": {}
  },
  {
   "cell_type": "code",
   "execution_count": 9,
   "source": [
    "# 3-6 对随机策略进行策略改进\r\n",
    "\r\n",
    "policy = random_policy.copy()\r\n",
    "optimal = improve_policy(env, v_random, policy)\r\n",
    "if optimal:\r\n",
    "    print('无更新，最优策略为: ')\r\n",
    "else:\r\n",
    "    print('有更新，更新后的策略为：')\r\n",
    "print(policy)"
   ],
   "outputs": [
    {
     "output_type": "stream",
     "name": "stdout",
     "text": [
      "有更新，更新后的策略为：\n",
      "[[1.   0.   0.   0.  ]\n",
      " [0.25 0.25 0.25 0.25]\n",
      " [0.25 0.25 0.25 0.25]\n",
      " [0.25 0.25 0.25 0.25]\n",
      " [0.25 0.25 0.25 0.25]\n",
      " [0.25 0.25 0.25 0.25]\n",
      " [0.25 0.25 0.25 0.25]\n",
      " [0.25 0.25 0.25 0.25]\n",
      " [0.25 0.25 0.25 0.25]\n",
      " [0.25 0.25 0.25 0.25]\n",
      " [0.25 0.25 0.25 0.25]\n",
      " [0.25 0.25 0.25 0.25]\n",
      " [0.25 0.25 0.25 0.25]\n",
      " [0.25 0.25 0.25 0.25]\n",
      " [0.25 0.25 0.25 0.25]\n",
      " [0.25 0.25 0.25 0.25]]\n"
     ]
    }
   ],
   "metadata": {}
  },
  {
   "cell_type": "code",
   "execution_count": null,
   "source": [
    "# 3-7 策略迭代的实现"
   ],
   "outputs": [],
   "metadata": {}
  },
  {
   "cell_type": "code",
   "execution_count": null,
   "source": [
    "# 3-8 利用策略迭代求解最优策略"
   ],
   "outputs": [],
   "metadata": {}
  },
  {
   "cell_type": "code",
   "execution_count": null,
   "source": [
    "# 3-9 价值迭代的实现"
   ],
   "outputs": [],
   "metadata": {}
  },
  {
   "cell_type": "code",
   "execution_count": null,
   "source": [
    "# 3-10 利用价值迭代算法求解最优策略"
   ],
   "outputs": [],
   "metadata": {}
  }
 ],
 "metadata": {
  "orig_nbformat": 4,
  "language_info": {
   "name": "python",
   "version": "3.8.10",
   "mimetype": "text/x-python",
   "codemirror_mode": {
    "name": "ipython",
    "version": 3
   },
   "pygments_lexer": "ipython3",
   "nbconvert_exporter": "python",
   "file_extension": ".py"
  },
  "kernelspec": {
   "name": "python3",
   "display_name": "Python 3.8.10 64-bit ('drl': conda)"
  },
  "interpreter": {
   "hash": "905757016efd07d0cfd81c6f9cd77a81e6638c87ef6a4e0f7fa650f59467cbb1"
  }
 },
 "nbformat": 4,
 "nbformat_minor": 2
}