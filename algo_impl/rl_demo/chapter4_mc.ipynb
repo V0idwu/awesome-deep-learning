{
 "cells": [
  {
   "cell_type": "code",
   "execution_count": 3,
   "source": [
    "import gym\r\n",
    "import numpy as np\r\n",
    "env = gym.make('Blackjack-v0')\r\n"
   ],
   "outputs": [],
   "metadata": {}
  },
  {
   "cell_type": "code",
   "execution_count": 4,
   "source": [
    "# 4-1 用随机策略玩一个回合\r\n",
    "\r\n",
    "observation = env.reset()\r\n",
    "print('观测 = {}'.format(observation))\r\n",
    "while True:\r\n",
    "    print('玩家 = {}, 庄家 = {}'.format(env.player, env.dealer))\r\n",
    "    action = np.random.choice(env.action_space.n)\r\n",
    "    print('动作 = {}'.format(action))\r\n",
    "    observation, reward, done, _ = env.step(action)\r\n",
    "    print('观测 = {}, 奖励 = {}, done = {}'.format(observation, reward, done))\r\n",
    "\r\n",
    "    if done:\r\n",
    "        break\r\n"
   ],
   "outputs": [
    {
     "output_type": "stream",
     "name": "stdout",
     "text": [
      "观测 = (8, 2, False)\n",
      "玩家 = [5, 3], 庄家 = [2, 10]\n",
      "动作 = 1\n",
      "观测 = (15, 2, False), 奖励 = 0.0, done = False\n",
      "玩家 = [5, 3, 7], 庄家 = [2, 10]\n",
      "动作 = 1\n",
      "观测 = (20, 2, False), 奖励 = 0.0, done = False\n",
      "玩家 = [5, 3, 7, 5], 庄家 = [2, 10]\n",
      "动作 = 1\n",
      "观测 = (23, 2, False), 奖励 = -1.0, done = True\n"
     ]
    }
   ],
   "metadata": {}
  },
  {
   "cell_type": "code",
   "execution_count": 5,
   "source": [
    "# 4-2 从观测到状态\r\n",
    "\r\n",
    "def ob2state(observation):\r\n",
    "    return (observation[0], observation[1], int(observation[2]))"
   ],
   "outputs": [],
   "metadata": {}
  },
  {
   "cell_type": "code",
   "execution_count": 4,
   "source": [
    "# 4-3 同策回合更新策略评估\r\n",
    "\r\n",
    "def evaluate_action_monte_carlo(env, policy, episode_num=500000):\r\n",
    "    q = np.zeros_like(policy)\r\n",
    "    c = np.zeros_like(policy)\r\n",
    "    for _ in range(episode_num):\r\n",
    "        # 玩一回合\r\n",
    "        state_actions = []\r\n",
    "        observation = env.reset()\r\n",
    "        while True:\r\n",
    "            state = ob2state(observation)\r\n",
    "            action = np.random.choice(env.action_space.n, p=policy[state])\r\n",
    "            state_actions.append((state, action))\r\n",
    "            observation, reward, done, _ = env.step(action)\r\n",
    "            if done:\r\n",
    "                break\r\n",
    "        g = reward\r\n",
    "        for state, action in state_actions:\r\n",
    "            c[state][action] += 1\r\n",
    "            q[state][action] += (g - q[state][action]) / c[state][action]\r\n",
    "\r\n",
    "    return q"
   ],
   "outputs": [],
   "metadata": {}
  },
  {
   "cell_type": "code",
   "execution_count": 5,
   "source": [
    "policy = np.zeros((22, 11, 2, 2))\r\n",
    "policy[20:, :, :, 0] = 1\r\n",
    "policy[:20, :, :, 1] = 1\r\n",
    "q = evaluate_action_monte_carlo(env, policy)\r\n",
    "v = (q * policy).sum(axis=-1)"
   ],
   "outputs": [],
   "metadata": {}
  },
  {
   "cell_type": "code",
   "execution_count": 6,
   "source": [
    "# 4-4 绘制最后一维的指标为0或1的3维数组\r\n",
    "\r\n",
    "import matplotlib.pyplot as plt\r\n",
    "\r\n",
    "def plot(data):\r\n",
    "    fig, axes = plt.subplots(1, 2, figsize=(9, 4))\r\n",
    "    titles = ['without ace', 'with ace']\r\n",
    "    have_aces = [0, 1]\r\n",
    "    extent = [12, 22, 1, 11]\r\n",
    "    for title, have_ace, axis in zip(titles, have_aces, axes):\r\n",
    "        dat = data[extent[0]:extent[1], extent[2]:extent[3], have_ace].T\r\n",
    "        axis.imshow(dat, extent=extent, origin='lower')\r\n",
    "        axis.set_xlabel('player sum')\r\n",
    "        axis.set_ylabel('dealer showing')\r\n",
    "        axis.set_title(title)\r\n",
    "\r\n",
    "# plot(v)"
   ],
   "outputs": [],
   "metadata": {}
  },
  {
   "cell_type": "code",
   "execution_count": 7,
   "source": [
    "# 4-5 带起始探索的同策回合更新\r\n",
    "\r\n",
    "def monte_carlo_with_exploring_start(env, episode_num=500000):\r\n",
    "    policy = np.zeros((22, 11, 2, 2))\r\n",
    "    policy[:, :, :, 1] = 1\r\n",
    "    q = np.zeros_like(policy)\r\n",
    "    c = np.zeros_like(policy)\r\n",
    "    for _ in range(episode_num):\r\n",
    "\r\n",
    "        # 随机选取状态\r\n",
    "        state = (np.random.randint(12, 22), np.random.randint(1, 11), np.random.randint(2))\r\n",
    "        action = np.random.randint(2)\r\n",
    "        \r\n",
    "        # 玩一回合\r\n",
    "        env.reset()\r\n",
    "        if state[2]: # 有A\r\n",
    "            env.player = [10, state[0] - 11]\r\n",
    "        else: # 没有A\r\n",
    "            if state[0] == 21:\r\n",
    "                env.player = [10, 9, 2]\r\n",
    "            else:\r\n",
    "                env.player = [10, state[0] - 10]\r\n",
    "        env.dealer[0] = state[1]\r\n",
    "        state_actions = []\r\n",
    "        while True:\r\n",
    "            state_actions.append((state, action))\r\n",
    "            observation, reward, done, _ = env.step(action)\r\n",
    "            if done:\r\n",
    "                break\r\n",
    "\r\n",
    "            state = ob2state(observation)\r\n",
    "            action = np.random.choice(env.action_space.n, p=policy[state])\r\n",
    "        g = reward\r\n",
    "\r\n",
    "        for state, action in state_actions:\r\n",
    "            c[state][action] += 1.\r\n",
    "            q[state][action] += (g - q[state][action]) / c[state][action]\r\n",
    "            a = q[state].argmax()\r\n",
    "            policy[state] = 0.\r\n",
    "            policy[state][a] = 1.\r\n",
    "    return policy, q\r\n"
   ],
   "outputs": [],
   "metadata": {}
  },
  {
   "cell_type": "code",
   "execution_count": 8,
   "source": [
    "policy, q = monte_carlo_with_exploring_start(env)\r\n",
    "v = q.max(axis=-1)\r\n",
    "plot(policy.argmax(-1))\r\n",
    "plot(v)"
   ],
   "outputs": [
    {
     "output_type": "display_data",
     "data": {
      "text/plain": [
       "<Figure size 648x288 with 2 Axes>"
      ],
      "image/png": "[encoded data removed]"
     },
     "metadata": {
      "needs_background": "light"
     }
    },
    {
     "output_type": "display_data",
     "data": {
      "text/plain": [
       "<Figure size 648x288 with 2 Axes>"
      ],
      "image/png": "[encoded data removed]"
     },
     "metadata": {
      "needs_background": "light"
     }
    }
   ],
   "metadata": {}
  },
  {
   "cell_type": "code",
   "execution_count": 9,
   "source": [
    "# 4-6 基于柔性策略的同策回合更新\r\n",
    "\r\n",
    "def monte_carlo_with_soft(env, episode_num=500000, epsilon=0.1):\r\n",
    "    policy = np.ones((22, 11, 2, 2)) * 0.5 # 柔性策略\r\n",
    "    q = np.zeros_like(policy)\r\n",
    "    c = np.zeros_like(policy)\r\n",
    "    for _ in range(episode_num):\r\n",
    "        # 玩一回合\r\n",
    "        state_actions = []\r\n",
    "        observation = env.reset()\r\n",
    "        while True:\r\n",
    "            state = ob2state(observation)\r\n",
    "            action = np.random.choice(env.action_space.n, p=policy[state])\r\n",
    "            state_actions.append((state, action))\r\n",
    "            observation, reward, done, _ = env.step(action)\r\n",
    "            if done:\r\n",
    "                break # 回合结束\r\n",
    "        g = reward # 回报\r\n",
    "        for state, action in state_actions:\r\n",
    "            c[state][action] += 1.\r\n",
    "            q[state][action] += (g - q[state][action]) / c[state][action]\r\n",
    "            # 更新策略为柔性策略\r\n",
    "            a = q[state].argmax()\r\n",
    "            policy[state] = epsilon / 2.\r\n",
    "            policy[state][a] += (1. - epsilon)\r\n",
    "    return policy, q"
   ],
   "outputs": [],
   "metadata": {}
  },
  {
   "cell_type": "code",
   "execution_count": 10,
   "source": [
    "policy, q = monte_carlo_with_soft(env)\r\n",
    "v = q.max(axis=-1)\r\n",
    "plot(policy.argmax(-1))\r\n",
    "plot(v)"
   ],
   "outputs": [
    {
     "output_type": "display_data",
     "data": {
      "text/plain": [
       "<Figure size 648x288 with 2 Axes>"
      ],
      "image/png": "[encoded data removed]"
     },
     "metadata": {
      "needs_background": "light"
     }
    },
    {
     "output_type": "display_data",
     "data": {
      "text/plain": [
       "<Figure size 648x288 with 2 Axes>"
      ],
      "image/png": "[encoded data removed]"
     },
     "metadata": {
      "needs_background": "light"
     }
    }
   ],
   "metadata": {}
  },
  {
   "cell_type": "code",
   "execution_count": 1,
   "source": [
    "# 4-7 重要性采样策略评估\r\n",
    "\r\n",
    "def evaluate_monte_carlo_importance_sample(env, policy, behavior_policy, episode_num=500000):\r\n",
    "    q = np.zeros_like(policy)\r\n",
    "    c = np.zeros_like(policy)\r\n",
    "    for _ in range(episode_num):\r\n",
    "        # 用behaior_policy玩一回合\r\n",
    "        state_actions = []\r\n",
    "        observation = env.reset()\r\n",
    "        while True:\r\n",
    "            state = ob2state(observation)\r\n",
    "            action = np.random.choice(env.action_space.n, p=behavior_policy[state])\r\n",
    "            state_actions.append((state, action))\r\n",
    "            observation, reward, done, _ = env.step(action)\r\n",
    "            if done:\r\n",
    "                break\r\n",
    "        g = reward\r\n",
    "        rho = 1. # 重要性采样比率\r\n",
    "        for state, action in reversed(state_actions):\r\n",
    "            c[state][action] += rho\r\n",
    "            q[state][action] += (rho / c[state][action] * (g - q[state][action]))\r\n",
    "            rho *= (policy[state][action] / behavior_policy[state][action])\r\n",
    "            if rho == 0:\r\n",
    "                break\r\n",
    "\r\n",
    "    return q"
   ],
   "outputs": [],
   "metadata": {}
  },
  {
   "cell_type": "code",
   "execution_count": 7,
   "source": [
    "policy = np.zeros((22, 11, 2, 2))\r\n",
    "policy[20:, :, :, 0] = 1 # >=20 时收手\r\n",
    "policy[:20, :, :, 1] = 1 # <20 时继续\r\n",
    "behavior_policy = np.ones_like(policy) * 0.5\r\n",
    "q = evaluate_monte_carlo_importance_sample(env, policy, behavior_policy)\r\n",
    "v = (q * policy).sum(axis=-1)\r\n",
    "plot(v)"
   ],
   "outputs": [
    {
     "output_type": "display_data",
     "data": {
      "text/plain": [
       "<Figure size 648x288 with 2 Axes>"
      ],
      "image/png": "[encoded data removed]"
     },
     "metadata": {
      "needs_background": "light"
     }
    }
   ],
   "metadata": {}
  },
  {
   "cell_type": "code",
   "execution_count": null,
   "source": [
    "# 4-8 柔性策略重要性采样最优策略求解\r\n",
    "\r\n",
    "def monte_carlo_importance_sample(env, episode_num=500000):\r\n",
    "    policy = np.zeros((22, 11, 2, 2))\r\n",
    "    policy[:, :, :, 0] = 1.\r\n",
    "    behavior_policy = np.ones_like(policy) * 0.5 # 柔性策略\r\n",
    "    q = np.zeros_like(policy)\r\n",
    "    c = np.zeros_like(policy)\r\n",
    "    for _ in range(episode_num):\r\n",
    "        # 用行为策略玩一回合\r\n",
    "        state_actions = []\r\n",
    "        observation = env.reset()\r\n",
    "        while True:\r\n",
    "            state = ob2state(observation)\r\n",
    "            action = np.random.choice(env.action_space.n,\r\n",
    "                    p=behavior_policy[state])\r\n",
    "            state_actions.append((state, action))\r\n",
    "            observation, reward, done, _ = env.step(action)\r\n",
    "            if done:\r\n",
    "                break # 玩好了\r\n",
    "        g = reward # 回报\r\n",
    "        rho = 1. # 重要性采样比率\r\n",
    "        for state, action in reversed(state_actions):\r\n",
    "            c[state][action] += rho\r\n",
    "            q[state][action] += (rho / c[state][action] * (g - q[state][action]))\r\n",
    "            # 策略改进\r\n",
    "            a = q[state].argmax()\r\n",
    "            policy[state] = 0.\r\n",
    "            policy[state][a] = 1.\r\n",
    "            if a != action: # 提前终止\r\n",
    "                break\r\n",
    "            rho /= behavior_policy[state][action]\r\n",
    "    return policy, q"
   ],
   "outputs": [],
   "metadata": {}
  },
  {
   "cell_type": "code",
   "execution_count": null,
   "source": [
    "policy, q = monte_carlo_importance_sample(env)\r\n",
    "v = q.max(axis=-1)\r\n",
    "plot(policy.argmax(-1))\r\n",
    "plot(v)"
   ],
   "outputs": [],
   "metadata": {}
  }
 ],
 "metadata": {
  "orig_nbformat": 4,
  "language_info": {
   "name": "python",
   "version": "3.8.5",
   "mimetype": "text/x-python",
   "codemirror_mode": {
    "name": "ipython",
    "version": 3
   },
   "pygments_lexer": "ipython3",
   "nbconvert_exporter": "python",
   "file_extension": ".py"
  },
  "kernelspec": {
   "name": "python3",
   "display_name": "Python 3.8.5 64-bit ('torch': conda)"
  },
  "interpreter": {
   "hash": "45c8c782616ee934877eff75ffd22761a2117480b2f5d482b7e24cef62251e40"
  }
 },
 "nbformat": 4,
 "nbformat_minor": 2
}