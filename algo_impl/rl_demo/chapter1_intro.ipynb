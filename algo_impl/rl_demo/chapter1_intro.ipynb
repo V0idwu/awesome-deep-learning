{
 "cells": [
  {
   "cell_type": "code",
   "execution_count": null,
   "metadata": {},
   "outputs": [],
   "source": [
    "import gym\r\n",
    "from gym import envs\r\n",
    "\r\n",
    "# env = gym.make('CartPole-v0')\r\n",
    "# env_specs = envs.registry.all()\r\n",
    "# env_ids = [env_spec.id for env_spec in env_specs]\r\n",
    "# env_ids"
   ]
  },
  {
   "cell_type": "code",
   "execution_count": 8,
   "metadata": {},
   "outputs": [
    {
     "name": "stdout",
     "output_type": "stream",
     "text": [
      "观测空间 = Box(-1.2000000476837158, 0.6000000238418579, (2,), float32)\n",
      "动作空间 = Discrete(3)\n",
      "观测范围 = [-1.2  -0.07] ~ [0.6  0.07]\n",
      "动作数 = 3\n"
     ]
    }
   ],
   "source": [
    "import gym\r\n",
    "# 小车上山\r\n",
    "env = gym.make('MountainCar-v0')\r\n",
    "print('观测空间 = {}'.format(env.observation_space))\r\n",
    "print('动作空间 = {}'.format(env.action_space))\r\n",
    "print('观测范围 = {} ~ {}'.format(env.observation_space.low, env.observation_space.high))\r\n",
    "print('动作数 = {}'.format(env.action_space.n))"
   ]
  },
  {
   "cell_type": "code",
   "execution_count": 9,
   "metadata": {},
   "outputs": [],
   "source": [
    "class BespokeAgent:\r\n",
    "    def __init__(self, env) -> None:\r\n",
    "        pass\r\n",
    "\r\n",
    "    def decide(self, observation):\r\n",
    "        position, velocity = observation\r\n",
    "        lb = min(-0.09 * (position + 0.25) ** 2 + 0.03, 0.3 * (position + 0.9) ** 4 - 0.008)\r\n",
    "        ub = -0.07 * (position + 0.38) ** 2 + 0.06\r\n",
    "        if lb < velocity < ub:\r\n",
    "            action = 2\r\n",
    "        else:\r\n",
    "            action = 0\r\n",
    "        return action\r\n",
    "\r\n",
    "    def learn(self, *args):\r\n",
    "        pass\r\n",
    "\r\n",
    "agent = BespokeAgent(env)"
   ]
  },
  {
   "cell_type": "code",
   "execution_count": 10,
   "metadata": {},
   "outputs": [],
   "source": [
    "def play_montecarlo(env, agent, render=False, train=False):\r\n",
    "    episode_reward = 0\r\n",
    "    observation = env.reset()\r\n",
    "    while True:\r\n",
    "        if render:\r\n",
    "            env.render()\r\n",
    "        \r\n",
    "        action = agent.decide(observation)\r\n",
    "        next_observation , reward, done, _ = env.step(action)\r\n",
    "        episode_reward += reward\r\n",
    "        if train:\r\n",
    "            agent.learn(observation, action, reward, done)\r\n",
    "        if done:\r\n",
    "            break\r\n",
    "        observation = next_observation\r\n",
    "        \r\n",
    "    return episode_reward"
   ]
  },
  {
   "cell_type": "code",
   "execution_count": 16,
   "metadata": {},
   "outputs": [
    {
     "name": "stdout",
     "output_type": "stream",
     "text": [
      "回合奖励 = -113.0\n"
     ]
    }
   ],
   "source": [
    "import numpy as np\r\n",
    "\r\n",
    "env.seed(0)\r\n",
    "episode_reward = play_montecarlo(env, agent, render=True)\r\n",
    "print('回合奖励 = {}'.format(episode_reward))\r\n",
    "env.close()"
   ]
  },
  {
   "cell_type": "code",
   "execution_count": 17,
   "metadata": {},
   "outputs": [
    {
     "name": "stdout",
     "output_type": "stream",
     "text": [
      " 平均回合奖励 = -108.26\n"
     ]
    }
   ],
   "source": [
    "episode_rewards = [play_montecarlo(env, agent) for _ in range(100)]\r\n",
    "print(' 平均回合奖励 = {}'.format(np.mean(episode_rewards)))"
   ]
  }
 ],
 "metadata": {
  "interpreter": {
   "hash": "45c8c782616ee934877eff75ffd22761a2117480b2f5d482b7e24cef62251e40"
  },
  "kernelspec": {
   "display_name": "Python 3.8.5 64-bit ('torch': conda)",
   "name": "python3"
  },
  "language_info": {
   "codemirror_mode": {
    "name": "ipython",
    "version": 3
   },
   "file_extension": ".py",
   "mimetype": "text/x-python",
   "name": "python",
   "nbconvert_exporter": "python",
   "pygments_lexer": "ipython3",
   "version": "3.8.5"
  },
  "orig_nbformat": 4
 },
 "nbformat": 4,
 "nbformat_minor": 2
}